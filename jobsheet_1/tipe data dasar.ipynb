{
 "cells": [
  {
   "cell_type": "code",
   "execution_count": 14,
   "metadata": {},
   "outputs": [
    {
     "name": "stdout",
     "output_type": "stream",
     "text": [
      "angka_int = 10 -> <class 'int'>\n",
      "angka_float = 3.14 -> <class 'float'>\n",
      "angka_complex = (2+3j) -> <class 'complex'>\n"
     ]
    }
   ],
   "source": [
    "# 1. Number (int, float, complex) \n",
    "# Integer (int) \n",
    "angka_int = 10 \n",
    "print(\"angka_int =\", angka_int, \"->\", type(angka_int))  \n",
    "# Float \n",
    "angka_float = 3.14 \n",
    "print(\"angka_float =\", angka_float, \"->\", type(angka_float))  \n",
    "# Complex \n",
    "angka_complex = 2 + 3j \n",
    "print(\"angka_complex =\", angka_complex, \"->\", type(angka_complex))  "
   ]
  },
  {
   "cell_type": "code",
   "execution_count": 15,
   "metadata": {},
   "outputs": [
    {
     "name": "stdout",
     "output_type": "stream",
     "text": [
      "is_active = True -> <class 'bool'>\n"
     ]
    }
   ],
   "source": [
    "# 2. Boolean \n",
    "is_active = True \n",
    "print(\"is_active =\", is_active, \"->\", type(is_active))   "
   ]
  },
  {
   "cell_type": "code",
   "execution_count": 16,
   "metadata": {},
   "outputs": [
    {
     "name": "stdout",
     "output_type": "stream",
     "text": [
      "teks = Hello, Python! -> <class 'str'>\n"
     ]
    }
   ],
   "source": [
    "# 3. String \n",
    "teks = \"Hello, Python!\" \n",
    "print(\"teks =\", teks, \"->\", type(teks))  "
   ]
  },
  {
   "cell_type": "code",
   "execution_count": 17,
   "metadata": {},
   "outputs": [
    {
     "name": "stdout",
     "output_type": "stream",
     "text": [
      "daftar_angka = [1, 2, 3, 4, 5] -> <class 'list'>\n"
     ]
    }
   ],
   "source": [
    "# 4. List \n",
    "# List adalah tipe data terurut dan dapat diubah (mutable) \n",
    "daftar_angka = [1, 2, 3, 4, 5] \n",
    "print(\"daftar_angka =\", daftar_angka, \"->\", type(daftar_angka))  "
   ]
  },
  {
   "cell_type": "code",
   "execution_count": 18,
   "metadata": {},
   "outputs": [
    {
     "name": "stdout",
     "output_type": "stream",
     "text": [
      "koordinat = (10, 20) -> <class 'tuple'>\n"
     ]
    }
   ],
   "source": [
    "# 5. Tuple \n",
    "# Tuple adalah tipe data terurut tetapi tidak dapat diubah (immutable) \n",
    "koordinat = (10, 20) \n",
    "print(\"koordinat =\", koordinat, \"->\", type(koordinat))  "
   ]
  },
  {
   "cell_type": "code",
   "execution_count": 19,
   "metadata": {},
   "outputs": [
    {
     "name": "stdout",
     "output_type": "stream",
     "text": [
      "data_mahasiswa = {'nama': 'Abimanyu Gilar Waluyo', 'nim': '4.33.24.0.01', 'jurusan': 'D4 - Teknologi Rekayasa Komputer'} -> <class 'dict'>\n"
     ]
    }
   ],
   "source": [
    "# 6. Dictionary \n",
    "# Dictionary menyimpan data dalam pasangan key-value \n",
    "data_mahasiswa = { \n",
    "    \"nama\" :\"Abimanyu Gilar Waluyo\", \n",
    "    \"nim\" :\"4.33.24.0.01\", \n",
    "    \"jurusan\" :\"D4 - Teknologi Rekayasa Komputer\" \n",
    "} \n",
    "print(\"data_mahasiswa =\", data_mahasiswa, \"->\", type(data_mahasiswa)) "
   ]
  },
  {
   "cell_type": "code",
   "execution_count": 20,
   "metadata": {},
   "outputs": [
    {
     "name": "stdout",
     "output_type": "stream",
     "text": [
      "himpunan_angka = {1, 2, 3} -> <class 'set'>\n"
     ]
    }
   ],
   "source": [
    "# 7. Set \n",
    "# Set adalah tipe data yang tidak terurut, unik (tiap elemen hanya muncul 1x) \n",
    "himpunan_angka = {1, 2, 3, 2, 1} \n",
    "print(\"himpunan_angka =\", himpunan_angka, \"->\", type(himpunan_angka))  "
   ]
  },
  {
   "cell_type": "code",
   "execution_count": 21,
   "metadata": {},
   "outputs": [
    {
     "name": "stdout",
     "output_type": "stream",
     "text": [
      "\n",
      "nilai_str = 100 -> <class 'str'>\n",
      "nilai_int = 100 -> <class 'int'>\n"
     ]
    }
   ],
   "source": [
    "# 8. Contoh penggunaan konversi tipe data \n",
    "nilai_str = \"100\" \n",
    "print(\"\\nnilai_str =\", nilai_str, \"->\", type(nilai_str)) \n",
    "nilai_int = int(nilai_str)  # konversi string ke integer \n",
    "print(\"nilai_int =\", nilai_int, \"->\", type(nilai_int)) "
   ]
  }
 ],
 "metadata": {
  "kernelspec": {
   "display_name": "Python 3",
   "language": "python",
   "name": "python3"
  },
  "language_info": {
   "codemirror_mode": {
    "name": "ipython",
    "version": 3
   },
   "file_extension": ".py",
   "mimetype": "text/x-python",
   "name": "python",
   "nbconvert_exporter": "python",
   "pygments_lexer": "ipython3",
   "version": "3.13.2"
  }
 },
 "nbformat": 4,
 "nbformat_minor": 2
}
