{
 "cells": [
  {
   "cell_type": "code",
   "execution_count": 1,
   "metadata": {},
   "outputs": [
    {
     "name": "stdout",
     "output_type": "stream",
     "text": [
      "Contoh IF Sederhana:\n",
      "Selamat! Anda lulus dengan nilai tinggi.\n",
      "\n"
     ]
    }
   ],
   "source": [
    "#1. IF Sederhana \n",
    "# Program hanya mengeksekusi blok jika kondisinya True 05:  \n",
    "nilai = 85 \n",
    "print(\"Contoh IF Sederhana:\") \n",
    "if nilai > 80: \n",
    "  print(\"Selamat! Anda lulus dengan nilai tinggi.\\n\")  \n"
   ]
  },
  {
   "cell_type": "code",
   "execution_count": 2,
   "metadata": {},
   "outputs": [
    {
     "name": "stdout",
     "output_type": "stream",
     "text": [
      "Contoh IF-ELSE:\n",
      "Anda belum cukup umur untuk mendapatkan SIM.\n",
      "\n"
     ]
    }
   ],
   "source": [
    "# 2. IF-ELSE \n",
    "# Jika kondisi True, eksekusi blok if; jika False, eksekusi blok else  \n",
    "umur = 17 \n",
    "print(\"Contoh IF-ELSE:\") \n",
    "if umur >= 18:\n",
    "    print(\"Anda sudah cukup umur untuk mendapatkan SIM.\") \n",
    "else:\n",
    "    print(\"Anda belum cukup umur untuk mendapatkan SIM.\\n\") \n"
   ]
  },
  {
   "cell_type": "code",
   "execution_count": null,
   "metadata": {},
   "outputs": [
    {
     "name": "stdout",
     "output_type": "stream",
     "text": [
      "Contoh IF-ELIF-ELSE:\n",
      "Hari Rabu - Ada diskon di beberapa toko.\n"
     ]
    }
   ],
   "source": [
    "# 3. IF-ELIF-ELSE \n",
    "# Menangani banyak kondisi secara berurutan. \n",
    "# Jika ada kondisi yang terpenuhi, blok yang bersangkutan dieksekusi,\n",
    "# lalu program melewati blok kondisi setelahnya.  \n",
    "hari = \"Rabu\" \n",
    "print(\"Contoh IF-ELIF-ELSE:\") \n",
    "if hari == \"Senin\": \n",
    "  print(\"Hari Senin - Saatnya kembali bekerja!\")\n",
    "elif hari == \"Selasa\": \n",
    "  print(\"Hari Selasa - Jadwal rapat mingguan.\") \n",
    "elif hari == \"Rabu\": \n",
    "  print(\"Hari Rabu - Ada diskon di beberapa toko.\") \n",
    "else:\n",
    "  print(\"Hari lainnya - Atur jadwalmu dengan baik.\\n\")\n"
   ]
  },
  {
   "cell_type": "code",
   "execution_count": 6,
   "metadata": {},
   "outputs": [
    {
     "name": "stdout",
     "output_type": "stream",
     "text": [
      "Contoh IF Bersarang (Nested IF):\n",
      "Cuaca cukup panas.\n",
      "Masih relatif normal, tapi tetap jaga kesehatan.\n"
     ]
    }
   ],
   "source": [
    "# 4. IF Bersarang (Nested IF) \n",
    "# Kondisi di dalam kondisi, biasa digunakan jika kita perlu\n",
    "# memeriksa sub-kondisi setelah kondisi pertama terpenuhi.  \n",
    "suhu = 35 \n",
    "print(\"Contoh IF Bersarang (Nested IF):\") \n",
    "if suhu > 30: \n",
    "  print(\"Cuaca cukup panas.\") \n",
    "  if suhu > 40:\n",
    "    print(\"Bahkan sangat terik! Disarankan banyak minum air.\")\n",
    "  else:\n",
    "    print(\"Masih relatif normal, tapi tetap jaga kesehatan.\")\n",
    "else: \n",
    "  print(\"Cuaca sepertinya cukup sejuk.\\n\")           "
   ]
  },
  {
   "cell_type": "code",
   "execution_count": 7,
   "metadata": {},
   "outputs": [
    {
     "name": "stdout",
     "output_type": "stream",
     "text": [
      "Contoh IF dengan Operasi Logika AND/OR:\n",
      "Anda lulus karena nilai teori dan praktik memadai.\n"
     ]
    }
   ],
   "source": [
    "# 5. Menggabungkan Percabangan dengan Operasi Logika\n",
    "# Memeriksa beberapa kondisi sekaligus dengan and, or, not  \n",
    "nilai_teori = 75 \n",
    "nilai_praktik = 80 \n",
    "print(\"Contoh IF dengan Operasi Logika AND/OR:\") \n",
    "if nilai_teori >= 70 and nilai_praktik >= 70: \n",
    "  print(\"Anda lulus karena nilai teori dan praktik memadai.\") \n",
    "elif nilai_teori < 70 and nilai_praktik < 70: \n",
    "  print(\"Anda perlu meningkatkan nilai teori dan praktik.\") \n",
    "elif nilai_teori < 70: \n",
    "  print(\"Anda perlu meningkatkan nilai teori.\")\n",
    "else: \n",
    "  print(\"Anda perlu meningkatkan nilai praktik.\\n\") "
   ]
  },
  {
   "cell_type": "code",
   "execution_count": 8,
   "metadata": {},
   "outputs": [
    {
     "name": "stdout",
     "output_type": "stream",
     "text": [
      "Contoh If Ternary (Conditional Expression):\n",
      "Angka = -5 => Negatif atau Nol\n"
     ]
    }
   ],
   "source": [
    "#6. Penggunaan If Ternary (atau Conditional Expression) \n",
    "# Bentuk ringkas: <hasil_if_true> if <kondisi> else <hasil_if_false>\n",
    "angka = -5 \n",
    "print(\"Contoh If Ternary (Conditional Expression):\") \n",
    "status = \"Positif\" if angka > 0 else \"Negatif atau Nol\" \n",
    "print(\"Angka =\", angka, \"=>\", status) \n"
   ]
  }
 ],
 "metadata": {
  "kernelspec": {
   "display_name": "Python 3",
   "language": "python",
   "name": "python3"
  },
  "language_info": {
   "codemirror_mode": {
    "name": "ipython",
    "version": 3
   },
   "file_extension": ".py",
   "mimetype": "text/x-python",
   "name": "python",
   "nbconvert_exporter": "python",
   "pygments_lexer": "ipython3",
   "version": "3.13.2"
  }
 },
 "nbformat": 4,
 "nbformat_minor": 2
}
