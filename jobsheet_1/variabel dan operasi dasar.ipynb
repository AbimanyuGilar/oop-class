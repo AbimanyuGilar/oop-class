{
 "cells": [
  {
   "cell_type": "code",
   "execution_count": 2,
   "metadata": {},
   "outputs": [
    {
     "name": "stdout",
     "output_type": "stream",
     "text": [
      "Nama = Budi\n",
      "Umur = 20\n",
      "Tinggi = 170.5 cm\n",
      "Mahasiswa = True\n"
     ]
    }
   ],
   "source": [
    "# 1. Pendeklarasian Variabel \n",
    "nama = \"Budi\" \n",
    "umur = 20 \n",
    "tinggi = 170.5 \n",
    "is_student = True  \n",
    "print(\"Nama =\", nama) \n",
    "print(\"Umur =\", umur) \n",
    "print(\"Tinggi =\", tinggi, \"cm\") \n",
    "print(\"Mahasiswa =\", is_student)  \n",
    "# Python tidak memerlukan deklarasi tipe data secara eksplisit. \n",
    "# Tipe data variabel akan menyesuaikan nilai yang diberikan. \n"
   ]
  },
  {
   "cell_type": "code",
   "execution_count": 3,
   "metadata": {},
   "outputs": [
    {
     "name": "stdout",
     "output_type": "stream",
     "text": [
      "\n",
      "OPERASI ARITMETIKA\n",
      "a = 10 , b = 3\n",
      "Penjumlahan = 13\n",
      "Pengurangan = 7\n",
      "Perkalian = 30\n",
      "Pembagian = 3.3333333333333335\n",
      "Pembagian Bulat = 3\n",
      "Modulus = 1\n",
      "Pangkat = 1000\n"
     ]
    }
   ],
   "source": [
    "# 2. Operasi Aritmetika \n",
    "a = 10 \n",
    "b = 3  \n",
    "penjumlahan = a + b      # Tambah \n",
    "pengurangan = a - b      # Kurang \n",
    "perkalian = a * b        # Kali \n",
    "pembagian = a / b        # Bagi (hasil float) \n",
    "pembagian_bulat = a // b # Bagi (bulat) \n",
    "modulus = a % b          # Sisa bagi \n",
    "pangkat = a ** b         # Pemangkatan  \n",
    "print(\"\\nOPERASI ARITMETIKA\") \n",
    "print(\"a =\", a, \", b =\", b) \n",
    "print(\"Penjumlahan =\", penjumlahan) \n",
    "print(\"Pengurangan =\", pengurangan) \n",
    "print(\"Perkalian =\", perkalian) \n",
    "print(\"Pembagian =\", pembagian) \n",
    "print(\"Pembagian Bulat =\", pembagian_bulat) \n",
    "print(\"Modulus =\", modulus) \n",
    "print(\"Pangkat =\", pangkat) \n"
   ]
  },
  {
   "cell_type": "code",
   "execution_count": 4,
   "metadata": {},
   "outputs": [
    {
     "name": "stdout",
     "output_type": "stream",
     "text": [
      "\n",
      "OPERASI PERBANDINGAN\n",
      "a > b = True\n",
      "a < b = False\n",
      "a == b = False\n",
      "a != b = True\n",
      "a >= b = True\n",
      "a <= b = False\n"
     ]
    }
   ],
   "source": [
    "# 3. Operasi Perbandingan \n",
    "# Menghasilkan nilai Boolean (True/False) \n",
    "lebih_besar = a > b \n",
    "kurang_dari = a < b \n",
    "sama_dengan = a == b \n",
    "tidak_sama = a != b \n",
    "lebih_besar_sama = a >= b \n",
    "kurang_sama = a <= b  \n",
    "print(\"\\nOPERASI PERBANDINGAN\") \n",
    "print(\"a > b =\", lebih_besar) \n",
    "print(\"a < b =\", kurang_dari) \n",
    "print(\"a == b =\", sama_dengan) \n",
    "print(\"a != b =\", tidak_sama) \n",
    "print(\"a >= b =\", lebih_besar_sama) \n",
    "print(\"a <= b =\", kurang_sama)\n"
   ]
  },
  {
   "cell_type": "code",
   "execution_count": 6,
   "metadata": {},
   "outputs": [
    {
     "name": "stdout",
     "output_type": "stream",
     "text": [
      "\n",
      "OPERASI LOGIKA\n",
      "x = True , y = False\n",
      "x and y = False\n",
      "x or y = True\n",
      "not x = False\n"
     ]
    }
   ],
   "source": [
    "# 4. Operasi Logika \n",
    "# # and, or, not  \n",
    "x = True \n",
    "y = False  \n",
    "logika_and = x and y \n",
    "logika_or = x or y \n",
    "logika_not_x = not x  \n",
    "print(\"\\nOPERASI LOGIKA\") \n",
    "print(\"x =\", x, \", y =\", y) \n",
    "print(\"x and y =\", logika_and) \n",
    "print(\"x or y =\", logika_or) \n",
    "print(\"not x =\", logika_not_x) \n"
   ]
  },
  {
   "cell_type": "code",
   "execution_count": 9,
   "metadata": {},
   "outputs": [
    {
     "name": "stdout",
     "output_type": "stream",
     "text": [
      "\n",
      "Kondisi terpenuhi: a lebih besar dari b, dan b masih positif.\n"
     ]
    }
   ],
   "source": [
    "# 5. Contoh penggunaan di dalam percabangan \n",
    "if a > b and b > 0:\n",
    "  print(\"\\nKondisi terpenuhi: a lebih besar dari b, dan b masih positif.\") \n",
    "else:\n",
    "  print(\"\\nKondisi tidak terpenuhi atau b <= 0.\") \n"
   ]
  }
 ],
 "metadata": {
  "kernelspec": {
   "display_name": "Python 3",
   "language": "python",
   "name": "python3"
  },
  "language_info": {
   "codemirror_mode": {
    "name": "ipython",
    "version": 3
   },
   "file_extension": ".py",
   "mimetype": "text/x-python",
   "name": "python",
   "nbconvert_exporter": "python",
   "pygments_lexer": "ipython3",
   "version": "3.13.2"
  }
 },
 "nbformat": 4,
 "nbformat_minor": 2
}
