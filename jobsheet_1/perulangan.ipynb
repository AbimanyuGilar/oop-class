{
 "cells": [
  {
   "cell_type": "code",
   "execution_count": 4,
   "metadata": {},
   "outputs": [
    {
     "name": "stdout",
     "output_type": "stream",
     "text": [
      "1) FOR loop dengan range()\n",
      "Perulangan ke- 0\n",
      "Perulangan ke- 1\n",
      "Perulangan ke- 2\n",
      "Perulangan ke- 3\n",
      "Perulangan ke- 4\n"
     ]
    }
   ],
   "source": [
    "# 1. FOR Loop dengan range() \n",
    "print(\"1) FOR loop dengan range()\") \n",
    "for i in range(5): \n",
    "  print(\"Perulangan ke-\", i) \n",
    "# range(5) menghasilkan nilai 0, 1, 2, 3, dan 4 \n",
    "# Sehingga perulangan akan berjalan sebanyak 5 kali\n"
   ]
  },
  {
   "cell_type": "code",
   "execution_count": 6,
   "metadata": {},
   "outputs": [
    {
     "name": "stdout",
     "output_type": "stream",
     "text": [
      "2) FOR loop mengiterasi list\n",
      "Buah: apel\n",
      "Buah: mangga\n",
      "Buah: jeruk\n",
      "Buah: pisang\n"
     ]
    }
   ],
   "source": [
    "# 2. FOR Loop untuk mengiterasi List \n",
    "print(\"2) FOR loop mengiterasi list\") \n",
    "buah = [\"apel\", \"mangga\", \"jeruk\", \"pisang\"] \n",
    "for item in buah: \n",
    "  print(\"Buah:\", item) \n",
    "# Loop akan mengeksekusi setiap elemen dalam list \"buah\" \n"
   ]
  },
  {
   "cell_type": "code",
   "execution_count": 7,
   "metadata": {},
   "outputs": [
    {
     "name": "stdout",
     "output_type": "stream",
     "text": [
      "3) WHILE loop sederhana\n",
      "count = 0\n",
      "count = 1\n",
      "count = 2\n",
      "count = 3\n",
      "count = 4\n"
     ]
    }
   ],
   "source": [
    "# 3. WHILE Loop \n",
    "print(\"3) WHILE loop sederhana\") \n",
    "count = 0 \n",
    "while count < 5: \n",
    "  print(\"count =\", count) \n",
    "  count += 1  # increment \n",
    "# Perulangan while terus dijalankan selama kondisi (count < 5) bernilai True "
   ]
  },
  {
   "cell_type": "code",
   "execution_count": 8,
   "metadata": {},
   "outputs": [
    {
     "name": "stdout",
     "output_type": "stream",
     "text": [
      "4) BREAK di dalam loop\n",
      "i = 0\n",
      "i = 1\n",
      "i = 2\n",
      "Loop dihentikan pada i = 3\n"
     ]
    }
   ],
   "source": [
    "# 4. BREAK pada Loop \n",
    "print(\"4) BREAK di dalam loop\")\n",
    "for i in range(10): \n",
    "  if i == 3: \n",
    "    print(\"Loop dihentikan pada i =\", i) \n",
    "    break  # mengakhiri loop saat i = 3 \n",
    "  print(\"i =\", i) \n",
    "# Keyword break langsung menghentikan keseluruhan perulangan 39:  40: print() 41:   "
   ]
  },
  {
   "cell_type": "code",
   "execution_count": 11,
   "metadata": {},
   "outputs": [
    {
     "name": "stdout",
     "output_type": "stream",
     "text": [
      "5) CONTINUE di dalam loop\n",
      "i = 0\n",
      "i = 1\n",
      "Lewati i = 2 dengan continue\n",
      "i = 3\n",
      "i = 4\n"
     ]
    }
   ],
   "source": [
    "# 5. CONTINUE pada Loop \n",
    "print(\"5) CONTINUE di dalam loop\")\n",
    "for i in range(5): \n",
    "  if i == 2: \n",
    "    print(\"Lewati i =\", i, \"dengan continue\") \n",
    "    continue  # melewati iterasi saat ini dan lanjut ke iterasi berikutnya\n",
    "  print(\"i =\", i) \n",
    "# Saat i = 2, baris print(\"i =\", i) tidak akan dieksekusi\n"
   ]
  },
  {
   "cell_type": "code",
   "execution_count": 12,
   "metadata": {},
   "outputs": [
    {
     "name": "stdout",
     "output_type": "stream",
     "text": [
      "6) NESTED loop\n",
      "i=0, j=0\n",
      "i=0, j=1\n",
      "i=1, j=0\n",
      "i=1, j=1\n",
      "i=2, j=0\n",
      "i=2, j=1\n"
     ]
    }
   ],
   "source": [
    "# 6. NESTED Loop (Loop Bersarang) \n",
    "print(\"6) NESTED loop\") \n",
    "for i in range(3):            # Loop luar (outer loop) \n",
    "  for j in range(2):        # Loop dalam (inner loop) \n",
    "    print(f\"i={i}, j={j}\") \n",
    "# Pada setiap iterasi i, loop j akan berjalan dari 0 sampai 1"
   ]
  },
  {
   "cell_type": "code",
   "execution_count": 13,
   "metadata": {},
   "outputs": [
    {
     "name": "stdout",
     "output_type": "stream",
     "text": [
      "7) ELSE pada loop for/while\n",
      "x = 0\n",
      "x = 1\n",
      "x = 2\n",
      "Loop for telah selesai tanpa break.\n",
      "\n",
      "y = 0\n",
      "y = 1\n",
      "y = 2\n",
      "Loop while telah selesai tanpa break.\n",
      "\n"
     ]
    }
   ],
   "source": [
    "# 7. Memanfaatkan ELSE pada Loop \n",
    "print(\"7) ELSE pada loop for/while\") \n",
    "# Python memiliki fitur unik: blok else pada loop \n",
    "# Blok else akan dieksekusi jika loop selesai tanpa di-break. \n",
    "for x in range(3):\n",
    "  print(\"x =\", x) \n",
    "else: \n",
    "  print(\"Loop for telah selesai tanpa break.\\n\")  \n",
    "y = 0 \n",
    "while y < 3: \n",
    "  print(\"y =\", y)\n",
    "  y += 1\n",
    "else: \n",
    "  print(\"Loop while telah selesai tanpa break.\\n\")"
   ]
  },
  {
   "cell_type": "code",
   "execution_count": 14,
   "metadata": {},
   "outputs": [
    {
     "name": "stdout",
     "output_type": "stream",
     "text": [
      "8) PASS (placeholder)\n",
      "i = 0\n",
      "i = 1\n",
      "i = 2\n"
     ]
    }
   ],
   "source": [
    "# 8. PASS sebagai placeholder \n",
    "print(\"8) PASS (placeholder)\")\n",
    "for i in range(3): \n",
    "  if i == 1: \n",
    "    pass  # pass tidak melakukan apa-apa, digunakan sebagai placeholder \n",
    "  print(\"i =\", i) \n"
   ]
  },
  {
   "cell_type": "code",
   "execution_count": null,
   "metadata": {},
   "outputs": [],
   "source": []
  }
 ],
 "metadata": {
  "kernelspec": {
   "display_name": "Python 3",
   "language": "python",
   "name": "python3"
  },
  "language_info": {
   "codemirror_mode": {
    "name": "ipython",
    "version": 3
   },
   "file_extension": ".py",
   "mimetype": "text/x-python",
   "name": "python",
   "nbconvert_exporter": "python",
   "pygments_lexer": "ipython3",
   "version": "3.13.2"
  }
 },
 "nbformat": 4,
 "nbformat_minor": 2
}
