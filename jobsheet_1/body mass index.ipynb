{
 "cells": [
  {
   "cell_type": "code",
   "execution_count": 18,
   "metadata": {},
   "outputs": [],
   "source": [
    "import IPython.display"
   ]
  },
  {
   "cell_type": "code",
   "execution_count": 27,
   "metadata": {},
   "outputs": [
    {
     "name": "stdout",
     "output_type": "stream",
     "text": [
      "BODY MASS INDEX CALCULATOR\n",
      "Tinggi badan anda = 1.74m\n",
      "Berat badan anda = 68.0kg\n",
      "BMI anda = 22.460034350640772\n",
      "Anda masuk kategori normal\n"
     ]
    }
   ],
   "source": [
    "while True:\n",
    "  IPython.display.clear_output(wait=True)\n",
    "\n",
    "  print(\"BODY MASS INDEX CALCULATOR\")\n",
    "\n",
    "  try:\n",
    "    tinggi = float(input(\"Masukkan tinggi badan anda (cm) : \")) / 100\n",
    "    print(\"Tinggi badan anda = \" + str(tinggi) + \"m\")\n",
    "\n",
    "    berat = float(input(\"Masukkan berat badan anda (kg) : \"))\n",
    "    print(\"Berat badan anda = \" + str(berat) + \"kg\")\n",
    "  except ValueError:\n",
    "    ulangi = input(\"Masukkan input dengan benar! Apakah anda ingin mengulang (Y/n)\")\n",
    "    if ulangi == 'n' or ulangi == \"N\":\n",
    "      break\n",
    "    continue\n",
    "\n",
    "  bmi = berat / (tinggi * tinggi)\n",
    "  print(\"BMI anda = \" + str(bmi))\n",
    "\n",
    "  if bmi < 18.5:\n",
    "    print(\"Anda masuk kategori underweight\")\n",
    "  elif bmi < 24.9:\n",
    "    print(\"Anda masuk kategori normal\")\n",
    "  else:\n",
    "    print(\"Anda masuk kategori overweight\")\n",
    "\n",
    "  ulangi = input(\"Apakah anda ingin menghitung lagi? (y/N)\")\n",
    "  if ulangi == 'y' or ulangi == \"Y\":\n",
    "    continue\n",
    "\n",
    "  break"
   ]
  }
 ],
 "metadata": {
  "kernelspec": {
   "display_name": "Python 3",
   "language": "python",
   "name": "python3"
  },
  "language_info": {
   "codemirror_mode": {
    "name": "ipython",
    "version": 3
   },
   "file_extension": ".py",
   "mimetype": "text/x-python",
   "name": "python",
   "nbconvert_exporter": "python",
   "pygments_lexer": "ipython3",
   "version": "3.13.2"
  }
 },
 "nbformat": 4,
 "nbformat_minor": 2
}
