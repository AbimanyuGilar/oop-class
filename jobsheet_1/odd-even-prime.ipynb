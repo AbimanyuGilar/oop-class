{
 "cells": [
  {
   "cell_type": "code",
   "execution_count": null,
   "metadata": {},
   "outputs": [],
   "source": [
    "import IPython.display"
   ]
  },
  {
   "cell_type": "code",
   "execution_count": 19,
   "metadata": {},
   "outputs": [
    {
     "name": "stdout",
     "output_type": "stream",
     "text": [
      "Bilangan anda = 11\n",
      "Bilangan anda merupakan bilangan ganjil\n",
      "Merupakan bilangan prima\n"
     ]
    }
   ],
   "source": [
    "while True:\n",
    "  IPython.display.clear_output(wait=True)\n",
    "\n",
    "  try:\n",
    "    bilangan = int(input(\"Masukkan bilangan\"))\n",
    "    print(\"Bilangan anda = \" + str(bilangan))\n",
    "  except ValueError:\n",
    "    ulangi = input(\"Masukkan input dengan benar! Apakah anda ingin mengulang (Y/n)\")\n",
    "    if ulangi == 'n' or ulangi == \"N\":\n",
    "      break\n",
    "    continue\n",
    "\n",
    "  if bilangan % 2 == 0:\n",
    "    print(\"Bilangan anda merupakan bilangan genap\")\n",
    "  else:\n",
    "    print(\"Bilangan anda merupakan bilangan ganjil\")\n",
    "  if bilangan < 2:\n",
    "    print(\"Bukan bilangan prima\")\n",
    "  for i in range(2, bilangan):\n",
    "    if bilangan % i == 0:\n",
    "      print(\"Bukan bilangan prima\")\n",
    "      break\n",
    "  else:\n",
    "    print(\"Merupakan bilangan prima\")  \n",
    "  \n",
    "  ulangi = input(\"Apakah anda ingin menghitung lagi? (y/N)\")\n",
    "  if ulangi == 'y' or ulangi == \"Y\":\n",
    "    continue\n",
    "\n",
    "  break\n"
   ]
  }
 ],
 "metadata": {
  "kernelspec": {
   "display_name": "Python 3",
   "language": "python",
   "name": "python3"
  },
  "language_info": {
   "codemirror_mode": {
    "name": "ipython",
    "version": 3
   },
   "file_extension": ".py",
   "mimetype": "text/x-python",
   "name": "python",
   "nbconvert_exporter": "python",
   "pygments_lexer": "ipython3",
   "version": "3.13.2"
  }
 },
 "nbformat": 4,
 "nbformat_minor": 2
}
