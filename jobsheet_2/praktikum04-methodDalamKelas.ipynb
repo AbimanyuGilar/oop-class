{
 "cells": [
  {
   "cell_type": "code",
   "execution_count": 21,
   "metadata": {},
   "outputs": [],
   "source": [
    "# Kelas untuk menjelaskan atribut dan metode dalam kelas\n",
    "class Mobil:\n",
    "  def __init__(self, merk, warna, tahun, harga):\n",
    "    # Atribut yang dimiliki oleh objek Mobil\n",
    "    self.merk = merk\n",
    "    self.warna = warna\n",
    "    self.tahun = tahun\n",
    "    self.harga = harga\n",
    "\n",
    "  # Fungsi tanpa return value, hanya mencetak informasi\n",
    "  def tampilkan_info(self):\n",
    "    print(f\"Mobil {self.merk} berwarna {self.warna}, tahun {self.tahun}, harga: Rp {self.harga}\")\n",
    "  \n",
    "  # Fungsi dengan satu parameter\n",
    "  def diskon(self, persen_diskon):\n",
    "    # Menghitung harga setelah diskon\n",
    "    diskon_harga = self.harga * (persen_diskon / 100)\n",
    "    harga_setelah_diskon = self.harga - diskon_harga\n",
    "    print(f\"Harga setelah diskon {persen_diskon}%: Rp {harga_setelah_diskon}\")\n",
    "    # Tidak mengembalikan nilai, hanya mencetak harga setelah diskon\n",
    "    \n",
    "  # Fungsi dengan return value, menghitung usia mobil berdasarkan tahun\n",
    "  def hitung_usia(self, tahun_sekarang):\n",
    "    usia = tahun_sekarang - self.tahun\n",
    "    return usia\n",
    "\n",
    "  # Fungsi dengan beberapa parameter\n",
    "  def perbarui_harga(self, harga_baru, tahun_baru):\n",
    "    self.harga = harga_baru\n",
    "    self.tahun = tahun_baru\n",
    "    print(f\"Harga dan tahun mobil {self.merk} diperbarui menjadi Rp {self.harga} dan tahun {self.tahun}\")\n",
    "\n"
   ]
  },
  {
   "cell_type": "code",
   "execution_count": 22,
   "metadata": {},
   "outputs": [],
   "source": [
    "# Membuat objek mobil\n",
    "mobil1 = Mobil(\"Toyota\", \"Hitam\", 2015, 300000000)\n",
    "mobil2 = Mobil(\"Honda\", \"Merah\", 2018, 250000000)"
   ]
  },
  {
   "cell_type": "code",
   "execution_count": 23,
   "metadata": {},
   "outputs": [
    {
     "name": "stdout",
     "output_type": "stream",
     "text": [
      "Mobil Toyota berwarna Hitam, tahun 2015, harga: Rp 300000000\n",
      "Mobil Honda berwarna Merah, tahun 2018, harga: Rp 250000000\n"
     ]
    }
   ],
   "source": [
    "# Menggunakan metode tanpa return value\n",
    "mobil1.tampilkan_info()\n",
    "mobil2.tampilkan_info()"
   ]
  },
  {
   "cell_type": "code",
   "execution_count": 24,
   "metadata": {},
   "outputs": [
    {
     "name": "stdout",
     "output_type": "stream",
     "text": [
      "Harga setelah diskon 10%: Rp 270000000.0\n",
      "Harga setelah diskon 15%: Rp 212500000.0\n"
     ]
    }
   ],
   "source": [
    "# Menggunakan metode dengan satu parameter (diskon)\n",
    "mobil1.diskon(10)\n",
    "mobil2.diskon(15)\n"
   ]
  },
  {
   "cell_type": "code",
   "execution_count": 26,
   "metadata": {},
   "outputs": [
    {
     "name": "stdout",
     "output_type": "stream",
     "text": [
      "Usia mobil1 pada tahun 2025: 10 tahun\n",
      "Usia mobil2 pada tahun 2025: 7 tahun\n"
     ]
    }
   ],
   "source": [
    "# Menggunakan metode dengan return value (hitung usia mobil)\n",
    "usia_mobil1 = mobil1.hitung_usia(2025)\n",
    "usia_mobil2 = mobil2.hitung_usia(2025)\n",
    "\n",
    "print(f\"Usia mobil1 pada tahun 2025: {usia_mobil1} tahun\")\n",
    "print(f\"Usia mobil2 pada tahun 2025: {usia_mobil2} tahun\")\n",
    "\n"
   ]
  },
  {
   "cell_type": "code",
   "execution_count": 27,
   "metadata": {},
   "outputs": [
    {
     "name": "stdout",
     "output_type": "stream",
     "text": [
      "Harga dan tahun mobil Toyota diperbarui menjadi Rp 280000000 dan tahun 2022\n",
      "Harga dan tahun mobil Honda diperbarui menjadi Rp 240000000 dan tahun 2021\n"
     ]
    }
   ],
   "source": [
    "# Menggunakan metode dengan beberapa parameter (perbarui harga dan tahun)\n",
    "mobil1.perbarui_harga(280000000, 2022)\n",
    "mobil2.perbarui_harga(240000000, 2021)"
   ]
  }
 ],
 "metadata": {
  "kernelspec": {
   "display_name": "Python 3",
   "language": "python",
   "name": "python3"
  },
  "language_info": {
   "codemirror_mode": {
    "name": "ipython",
    "version": 3
   },
   "file_extension": ".py",
   "mimetype": "text/x-python",
   "name": "python",
   "nbconvert_exporter": "python",
   "pygments_lexer": "ipython3",
   "version": "3.13.2"
  }
 },
 "nbformat": 4,
 "nbformat_minor": 2
}
