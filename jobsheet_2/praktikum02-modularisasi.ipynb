{
 "cells": [
  {
   "cell_type": "code",
   "execution_count": 6,
   "metadata": {},
   "outputs": [
    {
     "name": "stdout",
     "output_type": "stream",
     "text": [
      "Luas persegi dengan sisi 5 adalah: 25\n",
      "Luas persegi panjang dengan panjang 10 dan lebar 5 adalah: 50\n",
      "Luas lingkaran dengan jari-jari 7 adalah: 153.86\n"
     ]
    }
   ],
   "source": [
    "# File utama main.py yang mengimpor modul geometri.py\n",
    "\n",
    "# Mengimpor modul geometri\n",
    "import geometri\n",
    "\n",
    "def main():\n",
    "  # Menggunakan fungsi dari modul geometri\n",
    "  luas_persegi = geometri.hitung_luas_persegi(5)\n",
    "  print(f\"Luas persegi dengan sisi 5 adalah: {luas_persegi}\")\n",
    "\n",
    "  luas_persegi_panjang = geometri.hitung_luas_persegi_panjang(10, 5)\n",
    "  print(f\"Luas persegi panjang dengan panjang 10 dan lebar 5 adalah: {luas_persegi_panjang}\")\n",
    "\n",
    "  luas_lingkaran = geometri.hitung_luas_lingkaran(7)\n",
    "  print(f\"Luas lingkaran dengan jari-jari 7 adalah: {luas_lingkaran}\")\n",
    "\n",
    "if __name__ == \"__main__\":\n",
    "  main()\n"
   ]
  }
 ],
 "metadata": {
  "kernelspec": {
   "display_name": "Python 3",
   "language": "python",
   "name": "python3"
  },
  "language_info": {
   "codemirror_mode": {
    "name": "ipython",
    "version": 3
   },
   "file_extension": ".py",
   "mimetype": "text/x-python",
   "name": "python",
   "nbconvert_exporter": "python",
   "pygments_lexer": "ipython3",
   "version": "3.13.2"
  }
 },
 "nbformat": 4,
 "nbformat_minor": 2
}
