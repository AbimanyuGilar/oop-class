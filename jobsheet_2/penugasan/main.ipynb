{
 "cells": [
  {
   "cell_type": "code",
   "execution_count": 1,
   "metadata": {},
   "outputs": [],
   "source": [
    "from motor import Motor\n",
    "import parkir"
   ]
  },
  {
   "cell_type": "code",
   "execution_count": 2,
   "metadata": {},
   "outputs": [],
   "source": [
    "# Membuat objek dari class Motor\n",
    "motor1 = Motor('H 7711 I', 'Honda', \"Matic\", \"Abi\")\n",
    "motor2 = Motor('H 7722 I', 'Honda', \"Matic\", 'Aba')\n",
    "motor3 = Motor('H 7733 I', 'Honda', \"Matic\", \"Abu\")\n",
    "motor4 = Motor('H 7744 I', 'Honda', \"Matic\", \"Abe\")"
   ]
  },
  {
   "cell_type": "code",
   "execution_count": 3,
   "metadata": {},
   "outputs": [
    {
     "name": "stdout",
     "output_type": "stream",
     "text": [
      "Motor dengan plat H 7711 I telah terparkir\n",
      "Motor dengan plat H 7722 I telah terparkir\n",
      "Motor dengan plat H 7733 I telah terparkir\n",
      "Motor dengan plat H 7744 I telah terparkir\n"
     ]
    }
   ],
   "source": [
    "# Registrasi motor atau memarkirkan motor dengan objek yang sudah dibuat\n",
    "\n",
    "motor1.parkir()\n",
    "motor2.parkir()\n",
    "motor3.parkir()\n",
    "motor4.parkir()"
   ]
  },
  {
   "cell_type": "code",
   "execution_count": 10,
   "metadata": {},
   "outputs": [
    {
     "name": "stdout",
     "output_type": "stream",
     "text": [
      "Motor H 7744 I telah keluar dari tempat parkir\n",
      "Silahkan bayar tagihan sebesar: 2000\n"
     ]
    }
   ],
   "source": [
    "motor4.keluar_parkir()"
   ]
  },
  {
   "cell_type": "code",
   "execution_count": 11,
   "metadata": {},
   "outputs": [
    {
     "name": "stdout",
     "output_type": "stream",
     "text": [
      "Daftar Motor Terparkir:\n",
      "1. H 7711 I, jam ke-1, tagihan: Rp2000\n",
      "2. H 7733 I, jam ke-1, tagihan: Rp2000\n",
      "3. H 7722 I, jam ke-1, tagihan: Rp2000\n"
     ]
    }
   ],
   "source": [
    "# Melihat daftar plat nomor kendaraan yang sedang terparkir\n",
    "parkir.lihat_semua()"
   ]
  },
  {
   "cell_type": "code",
   "execution_count": 12,
   "metadata": {},
   "outputs": [
    {
     "data": {
      "text/plain": [
       "17"
      ]
     },
     "execution_count": 12,
     "metadata": {},
     "output_type": "execute_result"
    }
   ],
   "source": [
    "parkir.slot()"
   ]
  },
  {
   "cell_type": "code",
   "execution_count": 8,
   "metadata": {},
   "outputs": [
    {
     "name": "stdout",
     "output_type": "stream",
     "text": [
      "\n",
      "      Plat Nomor: H 7722 I\n",
      "      Merk: Honda\n",
      "      Tipe: Matic\n",
      "      Pemilik: Aba\n",
      "    \n"
     ]
    }
   ],
   "source": [
    "motor2.desc()"
   ]
  }
 ],
 "metadata": {
  "kernelspec": {
   "display_name": "Python 3",
   "language": "python",
   "name": "python3"
  },
  "language_info": {
   "codemirror_mode": {
    "name": "ipython",
    "version": 3
   },
   "file_extension": ".py",
   "mimetype": "text/x-python",
   "name": "python",
   "nbconvert_exporter": "python",
   "pygments_lexer": "ipython3",
   "version": "3.13.2"
  }
 },
 "nbformat": 4,
 "nbformat_minor": 2
}
