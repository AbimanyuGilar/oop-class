{
 "cells": [
  {
   "cell_type": "code",
   "execution_count": null,
   "metadata": {},
   "outputs": [
    {
     "name": "stdout",
     "output_type": "stream",
     "text": [
      "Ini adalah contoh fungsi built-in\n"
     ]
    }
   ],
   "source": [
    "# Fungsi Built-in\n",
    "# Fungsi print() adalah contoh fungsi built-in untuk mencetak output\n",
    "print(\"Ini adalah contoh fungsi built-in\")"
   ]
  },
  {
   "cell_type": "code",
   "execution_count": 3,
   "metadata": {},
   "outputs": [
    {
     "name": "stdout",
     "output_type": "stream",
     "text": [
      "Panjang kata 'Pemrograman' adalah: 11\n"
     ]
    }
   ],
   "source": [
    "# Fungsi len() adalah contoh fungsi built-in untuk menghitung panjang suatu objek\n",
    "kata = \"Pemrograman\"\n",
    "panjang_kata = len(kata)\n",
    "print(f\"Panjang kata '{kata}' adalah: {panjang_kata}\")"
   ]
  },
  {
   "cell_type": "code",
   "execution_count": 4,
   "metadata": {},
   "outputs": [
    {
     "name": "stdout",
     "output_type": "stream",
     "text": [
      "Nilai maksimum dalam daftar [10, 5, 30, 40, 25] adalah: 40\n"
     ]
    }
   ],
   "source": [
    "# Fungsi max() adalah contoh fungsi built-in untuk mencari nilai maksimum dari sebuah daftar\n",
    "angka = [10, 5, 30, 40, 25]\n",
    "nilai_max = max(angka)\n",
    "print(f\"Nilai maksimum dalam daftar {angka} adalah: {nilai_max}\")"
   ]
  },
  {
   "cell_type": "markdown",
   "metadata": {},
   "source": [
    "# Function user-defined"
   ]
  },
  {
   "cell_type": "code",
   "execution_count": 20,
   "metadata": {},
   "outputs": [
    {
     "name": "stdout",
     "output_type": "stream",
     "text": [
      "Kuadrat dari 7 adalah: 49\n"
     ]
    }
   ],
   "source": [
    "# Fungsi dengan satu parameter (Menerima satu nilai input)\n",
    "def cetak_kuadrat(angka):\n",
    "    # Menghitung kuadrat dari angka yang diterima sebagai parameter\n",
    "    print(f\"Kuadrat dari {angka} adalah: {angka ** 2}\")\n",
    "\n",
    "# Pemanggilan fungsi dengan satu parameter\n",
    "cetak_kuadrat(7)"
   ]
  },
  {
   "cell_type": "code",
   "execution_count": null,
   "metadata": {},
   "outputs": [
    {
     "name": "stdout",
     "output_type": "stream",
     "text": [
      "Luas persegi panjang: 50\n"
     ]
    }
   ],
   "source": [
    "# Fungsi dengan beberapa parameter (Menerima lebih dari satu nilai input)\n",
    "def hitung_luas_persegi_panjang(panjang, lebar):\n",
    "    # Menghitung luas persegi panjang\n",
    "    return panjang * lebar\n",
    "\n",
    "# Pemanggilan fungsi dengan beberapa parameter\n",
    "luas = hitung_luas_persegi_panjang(10, 5)\n",
    "print(f\"Luas persegi panjang: {luas}\")"
   ]
  },
  {
   "cell_type": "code",
   "execution_count": 15,
   "metadata": {},
   "outputs": [
    {
     "name": "stdout",
     "output_type": "stream",
     "text": [
      "Nama: Budi, Umur: 22, IPK: 3.8\n"
     ]
    }
   ],
   "source": [
    "# Fungsi dengan beberapa tipe parameter (Menerima berbagai jenis data)\n",
    "def info_mahasiswa(nama, umur, ipk):\n",
    "    # Mencetak informasi mahasiswa\n",
    "    print(f\"Nama: {nama}, Umur: {umur}, IPK: {ipk}\")\n",
    "\n",
    "# Pemanggilan fungsi dengan beberapa tipe parameter\n",
    "info_mahasiswa(\"Budi\", 22, 3.8)"
   ]
  },
  {
   "cell_type": "code",
   "execution_count": 1,
   "metadata": {},
   "outputs": [
    {
     "name": "stdout",
     "output_type": "stream",
     "text": [
      "Halo, Andi! Selamat datang di dunia Python.\n"
     ]
    }
   ],
   "source": [
    "# Fungsi tanpa return value (Non-return value)\n",
    "def sapa_pengguna(nama):\n",
    "    # Fungsi ini hanya mencetak sapaan tanpa mengembalikan nilai\n",
    "    print(f\"Halo, {nama}! Selamat datang di dunia Python.\")\n",
    "# Pemanggilan fungsi tanpa return value\n",
    "sapa_pengguna(\"Andi\")"
   ]
  },
  {
   "cell_type": "code",
   "execution_count": 2,
   "metadata": {},
   "outputs": [
    {
     "name": "stdout",
     "output_type": "stream",
     "text": [
      "Keliling persegi dengan sisi 5 adalah: 20\n"
     ]
    }
   ],
   "source": [
    "# Fungsi dengan return value\n",
    "def hitung_keliling_persegi(sisi):\n",
    "    # Mengembalikan keliling persegi\n",
    "    return 4 * sisi\n",
    "# Pemanggilan fungsi dengan return value\n",
    "keliling = hitung_keliling_persegi(5)\n",
    "print(f\"Keliling persegi dengan sisi 5 adalah: {keliling}\")"
   ]
  }
 ],
 "metadata": {
  "kernelspec": {
   "display_name": "Python 3",
   "language": "python",
   "name": "python3"
  },
  "language_info": {
   "codemirror_mode": {
    "name": "ipython",
    "version": 3
   },
   "file_extension": ".py",
   "mimetype": "text/x-python",
   "name": "python",
   "nbconvert_exporter": "python",
   "pygments_lexer": "ipython3",
   "version": "3.13.2"
  }
 },
 "nbformat": 4,
 "nbformat_minor": 2
}
