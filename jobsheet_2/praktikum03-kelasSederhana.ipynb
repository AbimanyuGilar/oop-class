{
 "cells": [
  {
   "cell_type": "code",
   "execution_count": 12,
   "metadata": {},
   "outputs": [],
   "source": [
    "# Kelas Buku untuk merepresentasikan buku di perpustakaan\n",
    "class Buku:\n",
    "  def __init__(self, judul, pengarang, tahun_terbit):\n",
    "    self.judul = judul\n",
    "    self.pengarang = pengarang\n",
    "    self.tahun_terbit = tahun_terbit\n",
    "    self.status = \"Tersedia\"  # Status buku, default adalah Tersedia\n",
    "\n",
    "  def tampilkan_info(self):\n",
    "    print(f\"Judul: {self.judul}\")\n",
    "    print(f\"Pengarang: {self.pengarang}\")\n",
    "    print(f\"Tahun Terbit: {self.tahun_terbit}\")\n",
    "    print(f\"Status: {self.status}\")\n",
    "\n",
    "  def pinjam(self):\n",
    "    if self.status == \"Tersedia\":\n",
    "      self.status = \"Dipinjam\"\n",
    "      print(f\"Buku '{self.judul}' telah dipinjam.\")\n",
    "    else:\n",
    "       print(f\"Buku '{self.judul}' sedang dipinjam.\")\n",
    "\n",
    "  def kembalikan(self):\n",
    "    if self.status == \"Dipinjam\":\n",
    "      self.status = \"Tersedia\"\n",
    "      print(f\"Buku '{self.judul}' telah dikembalikan.\")\n",
    "    else:\n",
    "      print(f\"Buku '{self.judul}' tidak sedang dipinjam.\")"
   ]
  },
  {
   "cell_type": "code",
   "execution_count": 3,
   "metadata": {},
   "outputs": [],
   "source": [
    "# Membuat objek dari kelas Buku\n",
    "buku1 = Buku(\"Pemrograman Python\", \"John Doe\", 2021)\n",
    "buku2 = Buku(\"Data Science untuk Pemula\", \"Jane Smith\", 2020)"
   ]
  },
  {
   "cell_type": "code",
   "execution_count": 4,
   "metadata": {},
   "outputs": [
    {
     "name": "stdout",
     "output_type": "stream",
     "text": [
      "Judul: Pemrograman Python\n",
      "Pengarang: John Doe\n",
      "Tahun Terbit: 2021\n",
      "Status: Tersedia\n",
      "Buku 'Data Science untuk Pemula' telah dipinjam.\n"
     ]
    }
   ],
   "source": [
    "# Menggunakan metode objek Buku\n",
    "buku1.tampilkan_info()\n",
    "buku2.pinjam()"
   ]
  },
  {
   "cell_type": "code",
   "execution_count": 5,
   "metadata": {},
   "outputs": [
    {
     "name": "stdout",
     "output_type": "stream",
     "text": [
      "Buku 'Data Science untuk Pemula' telah dikembalikan.\n",
      "Buku 'Pemrograman Python' telah dipinjam.\n",
      "Judul: Pemrograman Python\n",
      "Pengarang: John Doe\n",
      "Tahun Terbit: 2021\n",
      "Status: Dipinjam\n"
     ]
    }
   ],
   "source": [
    "# Mengubah status buku dan menampilkan informasi\n",
    "buku2.kembalikan()\n",
    "buku1.pinjam()\n",
    "buku1.tampilkan_info()"
   ]
  },
  {
   "cell_type": "code",
   "execution_count": 6,
   "metadata": {},
   "outputs": [],
   "source": [
    "# Kelas Mahasiswa untuk merepresentasikan Mahasiswa dalam kelas\n",
    "class Mahasiswa:\n",
    "  # Konstruktor (__init__) untuk menginisialisasi atribut objek\n",
    "  def __init__(self, nama, nim, umur):\n",
    "    self.nama = nama  # Atribut objek nama\n",
    "    self.nim = nim  # Atribut objek nim\n",
    "    self.umur = umur  # Atribut objek umur\n",
    "\n",
    "    # Metode untuk menampilkan informasi mahasiswa\n",
    "  def tampilkan_info(self):\n",
    "    print(f\"Nama: {self.nama}\")\n",
    "    print(f\"NIM: {self.nim}\")\n",
    "    print(f\"Umur: {self.umur} tahun\")\n",
    "\n",
    "    # Metode untuk merubah umur mahasiswa\n",
    "  def ubah_umur(self, umur_baru):\n",
    "    self.umur = umur_baru"
   ]
  },
  {
   "cell_type": "code",
   "execution_count": 7,
   "metadata": {},
   "outputs": [],
   "source": [
    "# Membuat objek (instance) dari kelas Mahasiswa\n",
    "mahasiswa1 = Mahasiswa(\"Andi\", \"12345\", 20)\n",
    "mahasiswa2 = Mahasiswa(\"Budi\", \"67890\", 22)"
   ]
  },
  {
   "cell_type": "code",
   "execution_count": 9,
   "metadata": {},
   "outputs": [
    {
     "name": "stdout",
     "output_type": "stream",
     "text": [
      "Nama: Andi\n",
      "NIM: 12345\n",
      "Umur: 20 tahun\n",
      "\n",
      "Nama: Budi\n",
      "NIM: 67890\n",
      "Umur: 22 tahun\n"
     ]
    }
   ],
   "source": [
    "# Menggunakan metode dari kelas Mahasiswa\n",
    "mahasiswa1.tampilkan_info()\n",
    "print()  # Baris kosong\n",
    "mahasiswa2.tampilkan_info()"
   ]
  },
  {
   "cell_type": "code",
   "execution_count": 10,
   "metadata": {},
   "outputs": [],
   "source": [
    "# Mengubah umur mahasiswa1 menggunakan metode ubah_umur\n",
    "mahasiswa1.ubah_umur(21)"
   ]
  },
  {
   "cell_type": "code",
   "execution_count": 11,
   "metadata": {},
   "outputs": [
    {
     "name": "stdout",
     "output_type": "stream",
     "text": [
      "\n",
      "Setelah mengubah umur mahasiswa1:\n",
      "Nama: Andi\n",
      "NIM: 12345\n",
      "Umur: 21 tahun\n"
     ]
    }
   ],
   "source": [
    "# Menampilkan info mahasiswa setelah umur diubah\n",
    "print(\"\\nSetelah mengubah umur mahasiswa1:\")\n",
    "mahasiswa1.tampilkan_info()"
   ]
  }
 ],
 "metadata": {
  "kernelspec": {
   "display_name": "Python 3",
   "language": "python",
   "name": "python3"
  },
  "language_info": {
   "codemirror_mode": {
    "name": "ipython",
    "version": 3
   },
   "file_extension": ".py",
   "mimetype": "text/x-python",
   "name": "python",
   "nbconvert_exporter": "python",
   "pygments_lexer": "ipython3",
   "version": "3.13.2"
  }
 },
 "nbformat": 4,
 "nbformat_minor": 2
}
