{
 "cells": [
  {
   "cell_type": "markdown",
   "metadata": {
    "id": "C4HHDVJGZ7-s"
   },
   "source": [
    "# Praktikum 01: Inheritance Dasar"
   ]
  },
  {
   "cell_type": "code",
   "execution_count": 1,
   "metadata": {
    "colab": {
     "base_uri": "https://localhost:8080/"
    },
    "executionInfo": {
     "elapsed": 48,
     "status": "ok",
     "timestamp": 1745995212771,
     "user": {
      "displayName": "Abimanyu",
      "userId": "00384377596145985600"
     },
     "user_tz": -420
    },
    "id": "xZEKm8ljZWLv",
    "outputId": "a2f3900e-bcdf-4c29-cf35-c386897c9d1d"
   },
   "outputs": [
    {
     "name": "stdout",
     "output_type": "stream",
     "text": [
      "Ini adalah mobil Tesla Model S berwarna Merah.\n",
      "Merk mobil: Tesla Model S\n"
     ]
    }
   ],
   "source": [
    "class Kendaraan:\n",
    "  def __init__(self, merk):\n",
    "    self.merk = merk\n",
    "\n",
    "  def mulai_mesin(self):\n",
    "    print(f\"Mesin kendaraan {self.merk} telah dinyalakan\")\n",
    "\n",
    "class Mobil(Kendaraan):\n",
    "  def __init__(self, merk, warna):\n",
    "    self.merk = merk\n",
    "    self.warna = warna\n",
    "\n",
    "  def info_mobil(self):\n",
    "    print(f\"Ini adalah mobil {self.merk} berwarna {self.warna}.\")\n",
    "\n",
    "if __name__ == \"__main__\":\n",
    "  mobil_tesla = Mobil(\"Tesla Model S\", \"Merah\")\n",
    "\n",
    "  mobil_tesla.info_mobil()\n",
    "\n",
    "  print(f\"Merk mobil: {mobil_tesla.merk}\")"
   ]
  },
  {
   "cell_type": "markdown",
   "metadata": {
    "id": "pseHqyJ4bQU5"
   },
   "source": [
    "# Praktikum 02: Menggunakan super() dalam konstruktor"
   ]
  },
  {
   "cell_type": "code",
   "execution_count": 2,
   "metadata": {
    "colab": {
     "base_uri": "https://localhost:8080/"
    },
    "executionInfo": {
     "elapsed": 30,
     "status": "ok",
     "timestamp": 1745996130074,
     "user": {
      "displayName": "Abimanyu",
      "userId": "00384377596145985600"
     },
     "user_tz": -420
    },
    "id": "bKmXuLfdbWhx",
    "outputId": "3d70ebba-9cd3-47b4-e63b-72e446f2927e"
   },
   "outputs": [
    {
     "name": "stdout",
     "output_type": "stream",
     "text": [
      "(Memanggil __init__ Person untuk 'Pak Anton')\n",
      "--------------------\n",
      "Halo, nama saya Pak Anton, usia saya 45 tahun.\n",
      "\n",
      "==============================\n",
      "\n",
      "(Memanggil __init__ Student untuk 'Dewi')\n",
      "(Memanggil __init__ Person untuk 'Dewi')\n",
      "(Inisialisasi atribut Student selesai utuk 'Dewi')\n",
      "--------------------\n",
      "Halo, nama saya Dewi, usia saya 20 tahun.\n",
      "Saya adalah mahasiswa dengan ID MHS001, jurusan Teknik Komputer.\n",
      "--------------------\n",
      "ID Mahasiswa: MHS001\n",
      "Jurusan: Teknik Komputer\n",
      "\n",
      "Usia mahasiswa Dewi: 20\n"
     ]
    }
   ],
   "source": [
    "class Person:\n",
    "  def __init__(self, nama, usia):\n",
    "    print(f\"(Memanggil __init__ Person untuk '{nama}')\")\n",
    "    self.nama = nama\n",
    "    self.usia = usia\n",
    "\n",
    "  def perkenalkan_diri(self):\n",
    "    print(f\"Halo, nama saya {self.nama}, usia saya {self.usia} tahun.\")\n",
    "\n",
    "class Student(Person):\n",
    "  def __init__(self, nama, usia, student_id, jurusan):\n",
    "    print(f\"(Memanggil __init__ Student untuk '{nama}')\")\n",
    "\n",
    "    super().__init__(nama, usia)\n",
    "\n",
    "    self.student_id = student_id\n",
    "    self.jurusan = jurusan\n",
    "    print(f\"(Inisialisasi atribut Student selesai utuk '{nama}')\")\n",
    "\n",
    "  # Override perkenalkan_diri untuk menambahkan info student\n",
    "  def perkenalkan_diri(self):\n",
    "    super().perkenalkan_diri()\n",
    "    print(f\"Saya adalah mahasiswa dengan ID {self.student_id}, jurusan {self.jurusan}.\")\n",
    "\n",
    "  def info_akademik(self):\n",
    "    print(f\"ID Mahasiswa: {self.student_id}\")\n",
    "    print(f\"Jurusan: {self.jurusan}\")\n",
    "\n",
    "if __name__ == \"__main__\":\n",
    "  dosen = Person(\"Pak Anton\", 45)\n",
    "  print(\"-\" * 20)\n",
    "  dosen.perkenalkan_diri()\n",
    "  print(\"\\n\" + \"=\" * 30 + \"\\n\")\n",
    "\n",
    "  mahasiswa = Student(\"Dewi\", 20, \"MHS001\", \"Teknik Komputer\")\n",
    "  print(\"-\" * 20)\n",
    "  mahasiswa.perkenalkan_diri()\n",
    "  print(\"-\" * 20)\n",
    "  mahasiswa.info_akademik()\n",
    "\n",
    "  # Cek atribut yang diwarisi\n",
    "  print(f\"\\nUsia mahasiswa {mahasiswa.nama}: {mahasiswa.usia}\") # Usia diwarisi dari person"
   ]
  },
  {
   "cell_type": "markdown",
   "metadata": {
    "id": "5YlTC-dWe8eT"
   },
   "source": [
    "# Praktikum 03: Method Overriding dan super()"
   ]
  },
  {
   "cell_type": "code",
   "execution_count": 3,
   "metadata": {
    "colab": {
     "base_uri": "https://localhost:8080/"
    },
    "executionInfo": {
     "elapsed": 37,
     "status": "ok",
     "timestamp": 1745996605737,
     "user": {
      "displayName": "Abimanyu",
      "userId": "00384377596145985600"
     },
     "user_tz": -420
    },
    "id": "q7cYq0LbfBDd",
    "outputId": "cc376f2f-693a-45d5-e229-98639f31dba3"
   },
   "outputs": [
    {
     "name": "stdout",
     "output_type": "stream",
     "text": [
      "Info Hewan Umum: \n",
      "Ini adalah hewan bernama Makhluk\n",
      "Makhluk mengeluarkan suara generik.\n",
      "\n",
      "Info Kucing Persia: \n",
      "Ini adalah hewan bernama Kucing\n",
      "Ini adalah kucing ras Persia.\n",
      "Kucing (Kucing) mengeong: Meow!\n"
     ]
    }
   ],
   "source": [
    "class Hewan:\n",
    "  def __init__(self, nama):\n",
    "    self.nama = nama\n",
    "\n",
    "  def bersuara(self):\n",
    "    print(f\"{self.nama} mengeluarkan suara generik.\")\n",
    "\n",
    "  def tampilkan_info(self):\n",
    "    print(f\"Ini adalah hewan bernama {self.nama}\")\n",
    "\n",
    "class Kucing(Hewan):\n",
    "  def __init__(self, nama, ras):\n",
    "    super().__init__(nama)\n",
    "    self.ras = ras\n",
    "\n",
    "  # Method overriding untuk bersuara\n",
    "  def bersuara(self):\n",
    "    print(f\"{self.nama} (Kucing) mengeong: Meow!\")\n",
    "\n",
    "  def tampilkan_info(self):\n",
    "    super().tampilkan_info()\n",
    "    print(f\"Ini adalah kucing ras {self.ras}.\")\n",
    "\n",
    "if __name__ == \"__main__\":\n",
    "  hewan_umum = Hewan(\"Makhluk\")\n",
    "  kucing_persia = Kucing(\"Kucing\", \"Persia\")\n",
    "\n",
    "  print(\"Info Hewan Umum: \")\n",
    "  hewan_umum.tampilkan_info()\n",
    "  hewan_umum.bersuara()\n",
    "\n",
    "  print(\"\\nInfo Kucing Persia: \")\n",
    "  kucing_persia.tampilkan_info()\n",
    "  kucing_persia.bersuara()\n"
   ]
  },
  {
   "cell_type": "markdown",
   "metadata": {
    "id": "YrcgSAeTguM1"
   },
   "source": [
    "# Praktikum 04: Multi-level Inheritance (Pewarisan Bertingkat)"
   ]
  },
  {
   "cell_type": "code",
   "execution_count": 4,
   "metadata": {
    "colab": {
     "base_uri": "https://localhost:8080/"
    },
    "executionInfo": {
     "elapsed": 916,
     "status": "ok",
     "timestamp": 1745997393096,
     "user": {
      "displayName": "Abimanyu",
      "userId": "00384377596145985600"
     },
     "user_tz": -420
    },
    "id": "kWO_xtYNgzUu",
    "outputId": "e127408d-541f-47dd-f679-24caec4cd5f2"
   },
   "outputs": [
    {
     "name": "stdout",
     "output_type": "stream",
     "text": [
      "Hewan 'Kucing Persia' adalah Karnivora.\n",
      "Mamalia 'Kucing Persia memiliki '4' kaki.\n",
      "--------------------\n",
      "Kucing Persia sedang menyusui\n",
      "Kucing Persia sedang bergerak\n",
      "Jenis makanan kucing: Karnivora\n",
      "Kucing Persia sedang bernapas\n",
      "Nama Organisme: Kucing Persia\n"
     ]
    }
   ],
   "source": [
    "# Induk level 1\n",
    "class Organisme:\n",
    "  def __init__(self, nama):\n",
    "    self.nama = nama\n",
    "\n",
    "  def bernapas(self):\n",
    "    print(f\"{self.nama} sedang bernapas\")\n",
    "\n",
    "# Anak level 1\n",
    "class Hewan(Organisme):\n",
    "  def __init__(self, nama, jenis_makanan):\n",
    "    super().__init__(nama)\n",
    "    self.jenis_makanan = jenis_makanan\n",
    "    print(f\"Hewan '{nama}' adalah {jenis_makanan}.\")\n",
    "\n",
    "  def bergerak(self):\n",
    "    print(f\"{self.nama} sedang bergerak\")\n",
    "\n",
    "# Anak level 2\n",
    "class Mamalia(Hewan):\n",
    "  def __init__(self, nama, jenis_makanan, jumlah_kaki):\n",
    "    super().__init__(nama, jenis_makanan)\n",
    "    self.jumlah_kaki = jumlah_kaki\n",
    "    print(f\"Mamalia '{self.nama} memiliki '{self.jumlah_kaki}' kaki.\")\n",
    "\n",
    "  def menyusui(self):\n",
    "    print(f\"{self.nama} sedang menyusui\")\n",
    "\n",
    "if __name__ == \"__main__\":\n",
    "  kucing = Mamalia(\"Kucing Persia\", \"Karnivora\", 4)\n",
    "  print(\"-\" * 20)\n",
    "\n",
    "  kucing.menyusui()\n",
    "\n",
    "  kucing.bergerak()\n",
    "\n",
    "  print(f\"Jenis makanan kucing: {kucing.jenis_makanan}\")\n",
    "\n",
    "  kucing.bernapas()\n",
    "  print(f\"Nama Organisme: {kucing.nama}\")"
   ]
  },
  {
   "cell_type": "markdown",
   "metadata": {
    "id": "r1XaMC3Njy39"
   },
   "source": [
    "# Praktikum 05: Hierarchical Inheritance"
   ]
  },
  {
   "cell_type": "code",
   "execution_count": 9,
   "metadata": {
    "colab": {
     "base_uri": "https://localhost:8080/",
     "height": 332
    },
    "executionInfo": {
     "elapsed": 67,
     "status": "error",
     "timestamp": 1745998880128,
     "user": {
      "displayName": "Abimanyu",
      "userId": "00384377596145985600"
     },
     "user_tz": -420
    },
    "id": "oAy1X-eni8yk",
    "outputId": "d70102fa-af93-4dd6-dfb3-20c9055247b7"
   },
   "outputs": [
    {
     "name": "stdout",
     "output_type": "stream",
     "text": [
      "Menampilkan Informasi Pegawai:\n",
      "--- Info Manager ---\n",
      "ID: M001, Nama: Budi Santoso\n",
      "Gaji Pokok: Rp10.000.000,00\n",
      "Tunjangan Jabatan: Rp5.000.000,00\n",
      "Total Gaji: Rp15.000.000,00\n",
      "------------------------------\n",
      "--- Info Staf Teknis ---\n",
      "ID: S001, Nama: Citra Lestari\n",
      "Gaji Pokok: Rp7.000.000,00\n",
      "Keahlian: Python Programming\n",
      "Bonus Keahlian: Rp1.500.000,00\n",
      "Total Gaji: Rp1.500.000,00\n",
      "Total Gaji: Rp8.500.000,00\n",
      "------------------------------\n",
      "--- Info Pegawai Baru ---\n",
      "ID: P005, Nama: Rian\n",
      "Gaji Pokok: Rp5.000.000,00\n",
      "Total Gaji: Rp5.000.000,00\n",
      "------------------------------\n"
     ]
    }
   ],
   "source": [
    "import locale\n",
    "\n",
    "# Set locale ke Indonesia\n",
    "try:\n",
    "  locale.setlocale(locale.LC_ALL, 'id_ID.UTF-8')\n",
    "except locale.error:\n",
    "  print(\"Locale id_ID.UTF-8 tidak tersedia, menggunakan locale defalut.\")\n",
    "\n",
    "# Fungsi helper format mata uang\n",
    "def format_rupiah(angka):\n",
    "  return locale.currency(angka, grouping=True, symbol='Rp')\n",
    "\n",
    "# Kelas induk\n",
    "class Pegawai:\n",
    "  def __init__(self, nama, id_pegawai, gaji_pokok):\n",
    "    self.nama = nama\n",
    "    self.id_pegawai = id_pegawai\n",
    "    self.gaji_pokok = gaji_pokok\n",
    "  \n",
    "  def hitung_gaji(self):\n",
    "    # Gaji dasar, bisa di-override\n",
    "    return self.gaji_pokok\n",
    "  \n",
    "  def tampilkan_info(self):\n",
    "    print(f\"ID: {self.id_pegawai}, Nama: {self.nama}\")\n",
    "    print(f\"Gaji Pokok: {format_rupiah(self.gaji_pokok)}\")\n",
    "\n",
    "# Kelas anak 1\n",
    "class Manager(Pegawai):\n",
    "  def __init__(self, nama, id_pegawai, gaji_pokok, tunjangan_jabatan):\n",
    "    super().__init__(nama, id_pegawai, gaji_pokok)\n",
    "    self.tunjangan_jabatan = tunjangan_jabatan\n",
    "\n",
    "  def hitung_gaji(self):\n",
    "    gaji_total = super().hitung_gaji() + self.tunjangan_jabatan\n",
    "    return gaji_total\n",
    "  \n",
    "  def tampilkan_info(self):\n",
    "    print(\"--- Info Manager ---\")\n",
    "    super().tampilkan_info()\n",
    "    print(f\"Tunjangan Jabatan: {format_rupiah(self.tunjangan_jabatan)}\")\n",
    "    print(f\"Total Gaji: {format_rupiah(self.hitung_gaji())}\")\n",
    "\n",
    "# Kelas anak 2\n",
    "class StafTeknis(Pegawai):\n",
    "  def __init__(self, nama, id_pegawai, gaji_pokok, keahlian, bonus_keahlian):\n",
    "    self.keahlian = keahlian\n",
    "    self.bonus_keahlian = bonus_keahlian\n",
    "    super().__init__(nama, id_pegawai, gaji_pokok)\n",
    "\n",
    "  def hitung_gaji(self):\n",
    "    gaji_total = super().hitung_gaji() + self.bonus_keahlian\n",
    "    return gaji_total\n",
    "  \n",
    "  def tampilkan_info(self):\n",
    "    print(\"--- Info Staf Teknis ---\")\n",
    "    super().tampilkan_info()\n",
    "    print(f\"Keahlian: {self.keahlian}\")\n",
    "    print(f\"Bonus Keahlian: {format_rupiah(self.bonus_keahlian)}\")\n",
    "    print(f\"Total Gaji: {format_rupiah(self.bonus_keahlian)}\")\n",
    "    print(f\"Total Gaji: {format_rupiah(self.hitung_gaji())}\")\n",
    "\n",
    "if __name__ == \"__main__\":\n",
    "  manager1 = Manager(\n",
    "    \"Budi Santoso\", \n",
    "    \"M001\", \n",
    "    10000000,\n",
    "    5000000\n",
    "  )\n",
    "  \n",
    "  staf1 = StafTeknis(\n",
    "    \"Citra Lestari\",\n",
    "    \"S001\", \n",
    "    7000000,\n",
    "    \"Python Programming\",\n",
    "    1500000\n",
    "  )\n",
    "\n",
    "  pegawai_baru = Pegawai(\n",
    "    \"Rian\",\n",
    "    \"P005\",\n",
    "    5000000\n",
    "  )\n",
    "\n",
    "  print(\"Menampilkan Informasi Pegawai:\")\n",
    "  manager1.tampilkan_info()\n",
    "  print(\"-\" * 30)\n",
    "  staf1.tampilkan_info()\n",
    "  print(\"-\" * 30)\n",
    "\n",
    "  print(\"--- Info Pegawai Baru ---\")\n",
    "  pegawai_baru.tampilkan_info()\n",
    "  print(f\"Total Gaji: {format_rupiah(pegawai_baru.hitung_gaji())}\")\n",
    "  print(\"-\" * 30)"
   ]
  },
  {
   "cell_type": "markdown",
   "metadata": {},
   "source": [
    "# Praktikum 06: Memeriksa Tipe Instance dengan instance()"
   ]
  },
  {
   "cell_type": "code",
   "execution_count": 11,
   "metadata": {},
   "outputs": [
    {
     "name": "stdout",
     "output_type": "stream",
     "text": [
      "\n",
      "Memproses objek: <class '__main__.PersegiPanjang'>\n",
      "Inni adalah bentuk: Persegi Panjang\n",
      "Objek ini adalah instance dari BentukGeometri (atau turunannya).\n",
      "-> Objek ini juga instance dari PersegiPanjang.\n",
      "\n",
      "Memproses objek: <class '__main__.Segitiga'>\n",
      "Inni adalah bentuk: Segitiga\n",
      "Objek ini adalah instance dari BentukGeometri (atau turunannya).\n",
      "-> Objek ini juga instance dari Segitiga\n",
      "\n",
      "Memproses objek: <class '__main__.BentukGeometri'>\n",
      "Inni adalah bentuk: Lingkaran\n",
      "Objek ini adalah instance dari BentukGeometri (atau turunannya).\n",
      "\n",
      "Memproses objek: <class 'str'>\n",
      "Objek ini BUKAN instance dari BentukGeometri.\n",
      "Objek ini adalah string.\n"
     ]
    }
   ],
   "source": [
    "class BentukGeometri:\n",
    "  def __init__(self, nama_bentuk):\n",
    "    self.nama = nama_bentuk\n",
    "  def tampilkan_nama(self):\n",
    "    print(f\"Inni adalah bentuk: {self.nama}\")\n",
    "  def hitung_luas(self):\n",
    "    print(f\"Luas {self.nama} tidak dapat dihitungg (generik)\")\n",
    "\n",
    "class PersegiPanjang(BentukGeometri):\n",
    "  def __init__(self, panjang, lebar):\n",
    "    super().__init__(\"Persegi Panjang\")\n",
    "    self.panjang = panjang\n",
    "    self.lebar = lebar\n",
    "  def hitung_luas(self):\n",
    "    luas = self.panjang * self.lebar\n",
    "    print(f\"Luas {self.nama}: {luas}\")\n",
    "\n",
    "class Segitiga(BentukGeometri):\n",
    "  def __init__(self, alas, tinggi):\n",
    "    super().__init__(\"Segitiga\")\n",
    "    self.alas = alas\n",
    "    self.tinggi = tinggi\n",
    "  def hitung_luas(self):\n",
    "    luas = self.alas * self.tinggi * 0.5\n",
    "    print(f\"Luas {self.nama}: {luas}\") \n",
    "\n",
    "def proses_bentuk(bentuk):\n",
    "  print(f\"\\nMemproses objek: {type(bentuk)}\")\n",
    "\n",
    "  if isinstance(bentuk, BentukGeometri):\n",
    "    bentuk.tampilkan_nama()\n",
    "    print(\"Objek ini adalah instance dari BentukGeometri (atau turunannya).\")\n",
    "    \n",
    "    if isinstance(bentuk, PersegiPanjang):\n",
    "      print(\"-> Objek ini juga instance dari PersegiPanjang.\")\n",
    "    if isinstance(bentuk, Segitiga):\n",
    "      print(\"-> Objek ini juga instance dari Segitiga\")\n",
    "  else:\n",
    "    print(\"Objek ini BUKAN instance dari BentukGeometri.\")\n",
    "\n",
    "  if isinstance(bentuk, str):\n",
    "    print(\"Objek ini adalah string.\")\n",
    "\n",
    "if __name__ == \"__main__\":\n",
    "  pp = PersegiPanjang(4, 3)\n",
    "  seg = Segitiga(5, 2)\n",
    "  bg = BentukGeometri(\"Lingkaran\")\n",
    "  teks = \"Ini string\"\n",
    "  daftar_objek = [pp, seg, bg, teks]\n",
    "\n",
    "  for objek in daftar_objek:\n",
    "    proses_bentuk(objek)\n",
    "  "
   ]
  }
 ],
 "metadata": {
  "colab": {
   "authorship_tag": "ABX9TyMEeSr2eqkny6t72JT/nFQL",
   "provenance": []
  },
  "kernelspec": {
   "display_name": "Python 3",
   "name": "python3"
  },
  "language_info": {
   "codemirror_mode": {
    "name": "ipython",
    "version": 3
   },
   "file_extension": ".py",
   "mimetype": "text/x-python",
   "name": "python",
   "nbconvert_exporter": "python",
   "pygments_lexer": "ipython3",
   "version": "3.13.2"
  }
 },
 "nbformat": 4,
 "nbformat_minor": 0
}
