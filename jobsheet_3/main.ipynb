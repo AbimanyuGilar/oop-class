{
 "cells": [
  {
   "cell_type": "markdown",
   "id": "8ae10fd9",
   "metadata": {},
   "source": [
    "# Praktikum 01: Enkapsulasi pada kelas bank account"
   ]
  },
  {
   "cell_type": "code",
   "execution_count": 1,
   "id": "ab32e248",
   "metadata": {},
   "outputs": [],
   "source": [
    "class BankAccount:\n",
    "  def __init__(self, owner, balance):\n",
    "    # Atribut dengan double underscore dianggap \"private\" di python\n",
    "    self.__owner = owner\n",
    "    self.__balance = balance\n",
    "\n",
    "  def deposit(self, amount):\n",
    "    \"\"\"Method untuk menambahkan saldo.\"\"\"\n",
    "    if amount > 0:\n",
    "      self.__balance += amount\n",
    "      print(f\"{amount} telah ditambahkan ke akun {self.__owner}.\")\n",
    "    else:\n",
    "      print(\"Jumlah deposit harus lebih dari 0.\")\n",
    "\n",
    "  def withdraw(self, amount):\n",
    "    \"\"\"Method untuk menarik saldo\"\"\"\n",
    "    if amount <= self.__balance:\n",
    "      self.__balance -= amount\n",
    "      print(f\"{amount} telah ditarik dari akun {self.__owner}\")\n",
    "    else:\n",
    "      print(\"Saldo tidak mencukupi.\")\n",
    "\n",
    "  def get_balance(self):\n",
    "    \"\"\"Method untuk mendapatkan informasi saldo terkini.\"\"\"\n",
    "    return self.__balance"
   ]
  },
  {
   "cell_type": "code",
   "execution_count": 2,
   "id": "a9d86afe",
   "metadata": {},
   "outputs": [
    {
     "name": "stdout",
     "output_type": "stream",
     "text": [
      "500 telah ditambahkan ke akun Alice.\n",
      "Jumlah deposit harus lebih dari 0.\n",
      "300 telah ditarik dari akun Alice\n",
      "Saldo tidak mencukupi.\n",
      "Saldo terakhir di akun Alice: 1200\n"
     ]
    }
   ],
   "source": [
    "# Contoh penggunaan\n",
    "if __name__ == \"__main__\":\n",
    "  # Membuat objek BankAccount dengan owner=\"Alice\" dan balance awal 1000\n",
    "  \n",
    "  alice_account = BankAccount(owner=\"Alice\", balance=1000) \n",
    "\n",
    "  # Deposit uang\n",
    "  alice_account.deposit(500)    # Berhasil\n",
    "  alice_account.deposit(-100)   # Gagal\n",
    "\n",
    "  # withdraw uang\n",
    "  alice_account.withdraw(300)   # Berhasil\n",
    "  alice_account.withdraw(2000)  # Gagal\n",
    "\n",
    "  # Mendapatkan saldo\n",
    "  current_balace = alice_account.get_balance()\n",
    "  print(f\"Saldo terakhir di akun {alice_account._BankAccount__owner}: {current_balace}\")\n",
    "\n",
    "  # Mencoba mengakses atribut 'private' langsung (tidak direkomendasikan)\n",
    "  # alice_account.__balance # Akan error karena python \"mangling\" nama atribut __balance menjadi _BankAccount_Balance\n",
    "\n",
    "  # Ini adalah salah satu mekanisme enkapsulasi sederhana di python."
   ]
  },
  {
   "cell_type": "markdown",
   "id": "a0345353",
   "metadata": {},
   "source": [
    "# Praktikum 02: Enkapsulasi pada kelas Employee"
   ]
  },
  {
   "cell_type": "code",
   "execution_count": 3,
   "id": "3d1ef655",
   "metadata": {},
   "outputs": [],
   "source": [
    "class Employee:\n",
    "  def __init__(self, name, salary):\n",
    "    # Atribut privat dengnan double underscore\n",
    "    self.__name = name\n",
    "    self.__salary = salary\n",
    "\n",
    "  def update_salary(self, increase):\n",
    "    \"\"\"Method untuk menaikkan gaji dengan validasi.\"\"\"\n",
    "    if increase > 0:\n",
    "      self.__salary += increase\n",
    "      print(f\"Gaji telah dinaikkan sebesar {increase}\")\n",
    "    else:\n",
    "      print(\"Nilai kenaikan harus lebih dari 0.\")\n",
    "\n",
    "  def set_salary(self, new_salary):\n",
    "    \"\"\"Method untuk mengubah gaji dengan validasi.\"\"\"\n",
    "    if new_salary >= 0:\n",
    "      self.__salary = new_salary\n",
    "      print(f\"Gaji diatur ulang menjadi {new_salary}\")\n",
    "    else:\n",
    "      print(\"Gaji tidak dapat bernilai negatif.\")\n",
    "\n",
    "  def get_salary(self):\n",
    "    \"\"\"Mentod untuk menampilkan informasi gaji\"\"\"\n",
    "    return self.__salary\n",
    "  \n",
    "  def get_employee_info(self):\n",
    "    \"\"\"Method untuk menampilkan informasi karyawan secara menyeluruh\"\"\"\n",
    "    return f\"Employee: {self.__name}, Gaji: {self.__salary}\""
   ]
  },
  {
   "cell_type": "code",
   "execution_count": 21,
   "id": "5ea3dd25",
   "metadata": {},
   "outputs": [
    {
     "name": "stdout",
     "output_type": "stream",
     "text": [
      "Employee: John Doe, Gaji: 50000\n",
      "Gaji telah dinaikkan sebesar 5000\n",
      "Gaji setelah kenaikkan: 55000\n",
      "Gaji diatur ulang menjadi 60000\n",
      "Informasi terbaru: Employee: John Doe, Gaji: 60000\n"
     ]
    }
   ],
   "source": [
    "# Contoh penggunaan\n",
    "if __name__ == \"__main__\":\n",
    "  # Membuat objek Employee dengan nama \"John Doe\" dan gaji awal 50000\n",
    "  employee1 = Employee(\"John Doe\", 50000)\n",
    "\n",
    "  # Tampilkan informasi karyawan\n",
    "  print(employee1.get_employee_info())\n",
    "\n",
    "  # Update gaji dengan menaikkan sebesar 5000\n",
    "  employee1.update_salary(5000)\n",
    "  print(f\"Gaji setelah kenaikkan: {employee1.get_salary()}\")\n",
    "\n",
    "  # Atur ulang gaji dengan nilai baru\n",
    "  employee1.set_salary(60000)\n",
    "  print(f\"Informasi terbaru: {employee1.get_employee_info()}\")\n",
    "\n",
    "  # Mencoba mengakses atribut privat secara langsung (tidak direkomendasikan)\n",
    "  # print(employee1.__salary) #Akan menimbulkan error"
   ]
  },
  {
   "cell_type": "markdown",
   "id": "2a3b20e5",
   "metadata": {},
   "source": [
    "# Praktikum 03: Konstruktor dan Destruktor Sederhana"
   ]
  },
  {
   "cell_type": "code",
   "execution_count": 4,
   "id": "100b5550",
   "metadata": {},
   "outputs": [],
   "source": [
    "class SimpleExample:\n",
    "  def __init__(self, name):\n",
    "    \"\"\"\n",
    "    Konstruktor: Dipanggil saat objek dibuat\n",
    "    menyimpan nilai 'name' dan mencetak pesan pembuatan objek.\n",
    "    \"\"\"\n",
    "\n",
    "    self.name = name\n",
    "    print(f\"konstruktor: Objek '{self.name}' telah dibuat.\")\n",
    "\n",
    "  def __del__(self):\n",
    "    \"\"\"\n",
    "    Destruktor dipanggil saat objek dihapus.\n",
    "    Mencetak pesan bahwa objek sedang dihapus.\n",
    "    \"\"\"\n",
    "\n",
    "    print(f\"Destruktor: objek '{self.name}' sedang dihapus.\")"
   ]
  },
  {
   "cell_type": "code",
   "execution_count": 7,
   "id": "8da0c9c1",
   "metadata": {},
   "outputs": [
    {
     "name": "stdout",
     "output_type": "stream",
     "text": [
      "Program dimulai.\n",
      "\n",
      "konstruktor: Objek 'Demo' telah dibuat.\n",
      "Program sedang berjalan...\n",
      "\n",
      "Destruktor: objek 'Demo' sedang dihapus.\n",
      "Objek telah dihapus secara eksplisit.\n",
      "\n",
      "Program selesai.\n"
     ]
    }
   ],
   "source": [
    "def main():\n",
    "  print(\"Program dimulai.\\n\")\n",
    "\n",
    "  # Membuat objek SimpleExample\n",
    "  obj = SimpleExample(\"Demo\")\n",
    "  print(\"Program sedang berjalan...\\n\")\n",
    "\n",
    "  # Menghapus objek secara eksplisit\n",
    "  del obj\n",
    "  print(\"Objek telah dihapus secara eksplisit.\\n\")\n",
    "\n",
    "  print(\"Program selesai.\")\n",
    "\n",
    "if __name__ == \"__main__\":\n",
    "  main()"
   ]
  },
  {
   "cell_type": "markdown",
   "id": "e836c44d",
   "metadata": {},
   "source": [
    "# Praktikum 04: Konstruktor dan Destruktor program FileLogger"
   ]
  },
  {
   "cell_type": "code",
   "execution_count": 8,
   "id": "cf83fb12",
   "metadata": {},
   "outputs": [],
   "source": [
    "class FileLogger:\n",
    "  def __init__(self, filename):\n",
    "    \"\"\"\n",
    "    Konstruktor: Membuka file log untk menulis pesan.\n",
    "    Parameter:\n",
    "      - filename: Nama file tempat pesan log akan ditulis.\n",
    "    \"\"\"\n",
    "    self.filename = filename\n",
    "    try:\n",
    "      self.file = open(filename, \"a\") # Membuka file dalam mode append\n",
    "      print(f\"File '{filename}' berhasil dibuka untuk logging.\")\n",
    "    except Exception as e:\n",
    "      print(f\"Gagal membuka file '{filename}': {e}\")\n",
    "\n",
    "  def write_log(self, message):\n",
    "    \"\"\"\n",
    "    Menulis pesan log ke dalam file.\n",
    "    \"\"\"\n",
    "    self.file.write(message + \"\\n\")\n",
    "    self.file.flush() # Memastikan pesan langsung ditulis ke disk\n",
    "    print(f\"Pesan log: '{message}' telah ditulis.\")\n",
    "\n",
    "  def __del__(self):\n",
    "    \"\"\"\n",
    "    Destruktor: Menutup file log ketika objek dihapus.\n",
    "    \"\"\"\n",
    "    if hasattr(self, \"file\") and not self.file.closed:\n",
    "      self.file.close()\n",
    "      print(f\"File '{self.filename}' telah ditutup\")"
   ]
  },
  {
   "cell_type": "code",
   "execution_count": 9,
   "id": "ae2b2d2a",
   "metadata": {},
   "outputs": [
    {
     "name": "stdout",
     "output_type": "stream",
     "text": [
      "File 'application.log' berhasil dibuka untuk logging.\n",
      "Pesan log: 'Aplikasi dimulai.' telah ditulis.\n",
      "Pesan log: 'Melakukan operasi A...' telah ditulis.\n",
      "Pesan log: 'Operasi A selesai.' telah ditulis.\n",
      "Pesan log: 'Aplikasi akan segera selesai.' telah ditulis.\n",
      "File 'application.log' telah ditutup\n"
     ]
    }
   ],
   "source": [
    "# Contoh penggunaan dalam skenario nyata aplikasi\n",
    "if __name__ == \"__main__\":\n",
    "  # Membuat objek logger untuk file \"application.log\"\n",
    "  logger = FileLogger(\"application.log\")\n",
    "\n",
    "  # Menulis beberapa pesan log selama operasi aplikasii\n",
    "  logger.write_log(\"Aplikasi dimulai.\")\n",
    "  logger.write_log(\"Melakukan operasi A...\")\n",
    "  logger.write_log(\"Operasi A selesai.\")\n",
    "  logger.write_log(\"Aplikasi akan segera selesai.\")\n",
    "\n",
    "  # Menghapus objek loger secara eksplisit\n",
    "  del logger\n",
    "\n",
    "  # Jika objek tidak dihapus secara eksplisit, destruktor akan dipanggil - \n",
    "    # ketika program berakhir dan garbage collection membersihkan objek tersebut\n"
   ]
  },
  {
   "cell_type": "markdown",
   "id": "d0794101",
   "metadata": {},
   "source": [
    "# Praktikum 05: Properti \"self\" pada kelas"
   ]
  },
  {
   "cell_type": "code",
   "execution_count": 20,
   "id": "3635db4d",
   "metadata": {},
   "outputs": [],
   "source": [
    "class Calculator:\n",
    "  def __init__(self, initial_value = 0):\n",
    "    \"\"\"\n",
    "    Konstruktor kelas kalkulator.\n",
    "    - self: Mengacu pada instance yang dibuat.\n",
    "    - Initial_value: Nilai awal dari kalkulator.\n",
    "    \"\"\"\n",
    "    self.value = initial_value\n",
    "    print(f\"Kalkulator diinisialisasi dengan nilai: {self.value}\")\n",
    "\n",
    "  def add(self, number):\n",
    "    \"\"\"\n",
    "    Menambahkan 'number' ke nilai tersimpan di objek.\n",
    "    - self.value: Menunjukan nilai saat ini yang disimpan di objek tersebut\n",
    "    - number: Nilai yang akan ditambahkan.\n",
    "    \"\"\"\n",
    "    self.value += number\n",
    "    print(f\"Setelah penambahan {number}, nilai sekarang adalah: {self.value}\")\n",
    "\n",
    "  def substract(self, number):\n",
    "    \"\"\"\n",
    "    Mengurangi 'number' dari nilai yang tersimpan.\n",
    "    - self.value: Nilai saat ini dalam objek.\n",
    "    - number: Nilai yang akan dikurangkan.\n",
    "    \"\"\"\n",
    "    self.value -= number\n",
    "    print(f\"Setelah pengurangan {number}, nilai sekarang adalah {self.value}\")\n",
    "\n",
    "  def reset(self):\n",
    "    \"\"\"\n",
    "    Mengatur ulang nilai kalkulator ke 0.\n",
    "    \"\"\"\n",
    "    self.value = 0\n",
    "    print(\"Nilai telah direset ke 0.\")\n",
    "\n",
    "  def show_value(self):\n",
    "    \"\"\"\n",
    "    Menampilkan nilai saat ini dari kalkulator.   \n",
    "    \"\"\"\n",
    "    print(f\"Nilai saat ini adalah: {self.value}\")"
   ]
  },
  {
   "cell_type": "code",
   "execution_count": 24,
   "id": "96eca140",
   "metadata": {},
   "outputs": [
    {
     "name": "stdout",
     "output_type": "stream",
     "text": [
      "Kalkulator diinisialisasi dengan nilai: 10\n",
      "Setelah penambahan 5, nilai sekarang adalah: 15\n",
      "Setelah pengurangan 3, nilai sekarang adalah 12\n",
      "Nilai saat ini adalah: 12\n",
      "Kalkulator diinisialisasi dengan nilai: 0\n",
      "Setelah penambahan 20, nilai sekarang adalah: 20\n",
      "Nilai saat ini adalah: 20\n"
     ]
    }
   ],
   "source": [
    "# Contoh penggunaan untuk memahami peran 'self'\n",
    "def main():\n",
    "  # Membuat objek Calculator dengan nilai awal 10\n",
    "  calc1 = Calculator(initial_value=10)\n",
    "\n",
    "  # Menggunakan metode dari objek calc1\n",
    "  calc1.add(5)        # Menambah 5 ke nilai calc1\n",
    "  calc1.substract(3)  # Mengurangi 3 dari nilai calc1\n",
    "  calc1.show_value()  # Menampilkan nilai calc1\n",
    "\n",
    "  # Membuat objek Calculator lainnya dengan nilai awal default (0)\n",
    "  calc2 = Calculator()\n",
    "  calc2.add(20)       # Menambah 20 ke nilai calc2\n",
    "  calc2.show_value()  # Menampilkan nilai calc2\n",
    "\n",
    "  # Penjelasan peran self:\n",
    "  # 'slef' memungkinkan setiap instance (calc1, calc2) memiliki atribut 'value' masing-masing\n",
    "  # mengacu pada self yang berbeda (intance yang berbeda).\n",
    "\n",
    "if __name__ == \"__main__\":\n",
    "  main()\n",
    "\n",
    "  "
   ]
  },
  {
   "cell_type": "markdown",
   "id": "9e6a4006",
   "metadata": {},
   "source": [
    "# Praktikum 06: Menggunakan getter, dan dekorator @property untuk mengelola akses atribut"
   ]
  },
  {
   "cell_type": "code",
   "execution_count": 26,
   "id": "6404ac4a",
   "metadata": {},
   "outputs": [],
   "source": [
    "class Person:\n",
    "  def __init__(self, name, age):\n",
    "    \"\"\"\n",
    "    Konstruktor untuk menginisialisasi objek Person dengan nama dan umur.\n",
    "    Attribut privat dengan (double underscore) menyimpan data internal.\n",
    "    \"\"\"\n",
    "    self.__name = name\n",
    "    self.__age = age\n",
    "\n",
    "  @property\n",
    "  def name(self):\n",
    "    \"\"\"\n",
    "    Getter untuk atribut name.\n",
    "      Mengembalikan nilai dari __name.\n",
    "    \"\"\"\n",
    "    return self.__name\n",
    "  \n",
    "  @name.setter\n",
    "  def name(self, value):\n",
    "    \"\"\"\n",
    "    Setter untuk atribut name.\n",
    "      Memeriksa apakah nilai tidak kosong sebelum mengubah nilai __name\n",
    "    \"\"\"\n",
    "    if not value:\n",
    "      print(\"Nama tidak boleh kosong\")\n",
    "    else:\n",
    "      self.__name = value\n",
    "\n",
    "  @property\n",
    "  def age(self):\n",
    "    \"\"\"\n",
    "    Getter untuk atribut age.\n",
    "    Mengembalikan nilai dari __age.\n",
    "    \"\"\"\n",
    "    return self.__age\n",
    "  \n",
    "  @age.setter\n",
    "  def age(self, value):\n",
    "    \"\"\"\n",
    "    Setter untuk atribut age.\n",
    "    Memeriksa apakah nilai umur tidak negatif sebelum mengubah nilai __age.\n",
    "    \"\"\"\n",
    "    if value < 0:\n",
    "      print(\"Umur tidak boleh negatif!\")\n",
    "    else:\n",
    "      self.__age = value"
   ]
  },
  {
   "cell_type": "code",
   "execution_count": 29,
   "id": "abbfb31a",
   "metadata": {},
   "outputs": [
    {
     "name": "stdout",
     "output_type": "stream",
     "text": [
      "Nama: Alice, Umur : 30\n",
      "Nama baru: Bob, Umur baru: 35\n",
      "Umur tidak boleh negatif!\n"
     ]
    }
   ],
   "source": [
    "# Contoh penggunaan\n",
    "def main():\n",
    "  # Membuat objek Person dnegan nama \"Alice\" dan umur 30 \n",
    "  person = Person(\"Alice\", 30)\n",
    "  print(f\"Nama: {person.name}, Umur : {person.age}\")\n",
    "\n",
    "  # Mengubah nama dan umur melalui setter\n",
    "  person.name = \"Bob\"\n",
    "  person.age = 35\n",
    "  print(f\"Nama baru: {person.name}, Umur baru: {person.age}\")\n",
    "\n",
    "  # Mencoba menetapkan nilai yang tidak valid untuk umur\n",
    "  person.age = -5 # Akan memunculkan pesan error karena validasi umur negatif\n",
    "\n",
    "if __name__ == \"__main__\":\n",
    "  main()"
   ]
  },
  {
   "cell_type": "markdown",
   "id": "e2cc684f",
   "metadata": {},
   "source": [
    "# Penugasan"
   ]
  },
  {
   "cell_type": "code",
   "execution_count": null,
   "id": "791bb945",
   "metadata": {},
   "outputs": [],
   "source": [
    "class Student:\n",
    "  def __init__(self, name, score):\n",
    "    self.__name = name\n",
    "    self.__score = score\n",
    "    self.__grade = self.grader(score)\n",
    "    self.grader(score)\n",
    "\n",
    "  def grader(self, value):\n",
    "    if value <= 59 and value >= 0:\n",
    "      return \"E\"\n",
    "    elif value >= 60 and value <= 69:\n",
    "      return \"D\"\n",
    "    elif value >= 70 and value <=79:\n",
    "      return \"C\"\n",
    "    elif value >= 80 and value <=89:\n",
    "      return 'B'\n",
    "    elif value >= 90 and value <= 100:\n",
    "      return 'A'\n",
    "    else:\n",
    "      print(\"Score harus di dalam range 0 - 100\")\n",
    "    \n",
    "  def show_info(self):\n",
    "    print(f\"Nama Mahasiswa: {self.__name} \\nNilai: {self.__score} \\nGrade: {self.__grade} \\n\")\n",
    "\n",
    "  @property\n",
    "  def name(self):\n",
    "    return self.__name\n",
    "  \n",
    "  @name.setter\n",
    "  def name(self, value):\n",
    "    self.__name = value\n",
    "    print(\"Nama diubah...\\n\")\n",
    "\n",
    "  @property\n",
    "  def score(self):\n",
    "    return self.__score\n",
    "  \n",
    "  @score.setter\n",
    "  def score(self, value):\n",
    "    self.__score = value\n",
    "    self.__grade = self.grader(value)\n",
    "    print(\"Nilai diubah...\\n\")\n",
    "\n",
    "  def __del__ (self):\n",
    "    print(f\"Data mahasiswa {self.__name} telah dihapus dari sistem.\")"
   ]
  },
  {
   "cell_type": "code",
   "execution_count": 58,
   "id": "bf203569",
   "metadata": {},
   "outputs": [
    {
     "name": "stdout",
     "output_type": "stream",
     "text": [
      "Nama Mahasiswa: Abimanyu Gilar Waluyo \n",
      "Nilai: 100 \n",
      "Grade: A \n",
      "\n",
      "Score diubah...\n",
      "\n",
      "Nama diubah...\n",
      "\n",
      "Data mahasiswa Gilar telah dihapus dari sistem.\n"
     ]
    }
   ],
   "source": [
    "# Contoh penggunaan\n",
    "def main():\n",
    "  # Membuat object abi dari class Student\n",
    "  abi = Student(\"Abimanyu Gilar Waluyo\", 100)\n",
    "\n",
    "  # Menampilkan info lengkap tentang mahasiswa ini\n",
    "  abi.show_info()\n",
    "\n",
    "  # Set score dan nama baru\n",
    "  abi.score = 100\n",
    "  abi.name = \"Gilar\"\n",
    "\n",
    "  # Menghapus objek abi\n",
    "  del abi\n",
    "\n",
    "if __name__ == \"__main__\":\n",
    "  main()"
   ]
  }
 ],
 "metadata": {
  "kernelspec": {
   "display_name": "Python 3",
   "language": "python",
   "name": "python3"
  },
  "language_info": {
   "codemirror_mode": {
    "name": "ipython",
    "version": 3
   },
   "file_extension": ".py",
   "mimetype": "text/x-python",
   "name": "python",
   "nbconvert_exporter": "python",
   "pygments_lexer": "ipython3",
   "version": "3.13.2"
  }
 },
 "nbformat": 4,
 "nbformat_minor": 5
}
