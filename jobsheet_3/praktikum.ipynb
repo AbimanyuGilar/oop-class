{
 "cells": [
  {
   "cell_type": "code",
   "execution_count": null,
   "id": "336e49ed",
   "metadata": {},
   "outputs": [],
   "source": [
    "class BankAccount:\n",
    "  def __init__(self, owner, balance):\n",
    "  # Atribut dengan double underscore (__) dianggap \"private\" di Python\n",
    "    self.__owner = owner\n",
    "    self.__balance = balance\n",
    "\n",
    "  def deposit(self, amount):\n",
    "    \"\"\"Method untuk menambahkan saldo.\"\"\"\n",
    "    if amount > 0:\n",
    "      self.__balance += amount\n",
    "      print(f\"{amount} telah ditambahkan ke akun {self.__owner}.\")\n",
    "    else:\n",
    "      print(\"Jumlah deposit harus lebih dari 0.\")\n",
    "\n",
    "  def withdraw(self, amount):\n",
    "    \"\"\"Method untuk menarik saldo.\"\"\"\n",
    "    if amount <= self.__balance:\n",
    "      self.__balance -= amount\n",
    "      print(f\"{amount} telah ditarik dari akun {self.__owner}.\")\n",
    "    else:\n",
    "      print(\"Saldo tidak mencukupi.\")\n",
    "    \n",
    "  def get_balance(self):\n",
    "    \"\"\"Method untuk mendapatkan informasi saldo terkini.\"\"\"\n",
    "    return self.__balance"
   ]
  },
  {
   "cell_type": "code",
   "execution_count": null,
   "id": "40ed5eb6",
   "metadata": {},
   "outputs": [],
   "source": []
  }
 ],
 "metadata": {
  "kernelspec": {
   "display_name": "Python 3",
   "language": "python",
   "name": "python3"
  },
  "language_info": {
   "codemirror_mode": {
    "name": "ipython",
    "version": 3
   },
   "file_extension": ".py",
   "mimetype": "text/x-python",
   "name": "python",
   "nbconvert_exporter": "python",
   "pygments_lexer": "ipython3",
   "version": "3.13.2"
  }
 },
 "nbformat": 4,
 "nbformat_minor": 5
}
